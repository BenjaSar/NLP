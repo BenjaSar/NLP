{
 "cells": [
  {
   "attachments": {},
   "cell_type": "markdown",
   "metadata": {
    "id": "NV8wZ0MTKjv_"
   },
   "source": [
    "<img src=\"https://github.com/hernancontigiani/ceia_memorias_especializacion/raw/master/Figures/logoFIUBA.jpg\" width=\"500\" align=\"center\">\n",
    "\n",
    "\n",
    "# Natural Language Processing\n",
    "## Chatbot with deep leargning - Default query and answers "
   ]
  },
  {
   "attachments": {},
   "cell_type": "markdown",
   "metadata": {
    "id": "Z_9z3H-yKrcK"
   },
   "source": [
    "Based on:\n",
    "[LINK](https://towardsdatascience.com/a-simple-chatbot-in-python-with-deep-learning-3e8669997758)"
   ]
  },
  {
   "attachments": {},
   "cell_type": "markdown",
   "metadata": {
    "id": "oCVZakCzAjGN"
   },
   "source": [
    "### 1 - Dependencies installation"
   ]
  },
  {
   "cell_type": "code",
   "execution_count": 1,
   "metadata": {
    "id": "Zd8NLa4gsSmT"
   },
   "outputs": [
    {
     "name": "stdout",
     "output_type": "stream",
     "text": [
      "2023-09-03 18:22:30.966920: I tensorflow/core/platform/cpu_feature_guard.cc:182] This TensorFlow binary is optimized to use available CPU instructions in performance-critical operations.\n",
      "To enable the following instructions: SSE4.1 SSE4.2 AVX AVX2 FMA, in other operations, rebuild TensorFlow with the appropriate compiler flags.\n",
      "\u001b[33mDEPRECATION: https://github.com/explosion/spacy-models/releases/download/es_core_news_sm-3.1.0/es_core_news_sm-3.1.0-py3-none-any.whl#egg=es_core_news_sm==3.1.0 contains an egg fragment with a non-PEP 508 name pip 25.0 will enforce this behaviour change. A possible replacement is to use the req @ url syntax, and remove the egg fragment. Discussion can be found at https://github.com/pypa/pip/issues/11617\u001b[0m\u001b[33m\n",
      "\u001b[0mCollecting es-core-news-sm==3.1.0\n",
      "  Downloading https://github.com/explosion/spacy-models/releases/download/es_core_news_sm-3.1.0/es_core_news_sm-3.1.0-py3-none-any.whl (13.7 MB)\n",
      "\u001b[2K     \u001b[90m━━━━━━━━━━━━━━━━━━━━━━━━━━━━━━━━━━━━━━━━\u001b[0m \u001b[32m13.7/13.7 MB\u001b[0m \u001b[31m25.6 MB/s\u001b[0m eta \u001b[36m0:00:00\u001b[0m00:01\u001b[0m00:01\u001b[0m\n",
      "\u001b[?25hRequirement already satisfied: spacy<3.2.0,>=3.1.0 in /home/benja/anaconda3/envs/nlp/lib/python3.9/site-packages (from es-core-news-sm==3.1.0) (3.1.0)\n",
      "Requirement already satisfied: spacy-legacy<3.1.0,>=3.0.7 in /home/benja/anaconda3/envs/nlp/lib/python3.9/site-packages (from spacy<3.2.0,>=3.1.0->es-core-news-sm==3.1.0) (3.0.12)\n",
      "Requirement already satisfied: murmurhash<1.1.0,>=0.28.0 in /home/benja/anaconda3/envs/nlp/lib/python3.9/site-packages (from spacy<3.2.0,>=3.1.0->es-core-news-sm==3.1.0) (1.0.9)\n",
      "Requirement already satisfied: cymem<2.1.0,>=2.0.2 in /home/benja/anaconda3/envs/nlp/lib/python3.9/site-packages (from spacy<3.2.0,>=3.1.0->es-core-news-sm==3.1.0) (2.0.7)\n",
      "Requirement already satisfied: preshed<3.1.0,>=3.0.2 in /home/benja/anaconda3/envs/nlp/lib/python3.9/site-packages (from spacy<3.2.0,>=3.1.0->es-core-news-sm==3.1.0) (3.0.8)\n",
      "Requirement already satisfied: thinc<8.1.0,>=8.0.7 in /home/benja/anaconda3/envs/nlp/lib/python3.9/site-packages (from spacy<3.2.0,>=3.1.0->es-core-news-sm==3.1.0) (8.0.17)\n",
      "Requirement already satisfied: blis<0.8.0,>=0.4.0 in /home/benja/anaconda3/envs/nlp/lib/python3.9/site-packages (from spacy<3.2.0,>=3.1.0->es-core-news-sm==3.1.0) (0.7.10)\n",
      "Requirement already satisfied: wasabi<1.1.0,>=0.8.1 in /home/benja/anaconda3/envs/nlp/lib/python3.9/site-packages (from spacy<3.2.0,>=3.1.0->es-core-news-sm==3.1.0) (0.10.1)\n",
      "Requirement already satisfied: srsly<3.0.0,>=2.4.1 in /home/benja/anaconda3/envs/nlp/lib/python3.9/site-packages (from spacy<3.2.0,>=3.1.0->es-core-news-sm==3.1.0) (2.4.7)\n",
      "Requirement already satisfied: catalogue<2.1.0,>=2.0.4 in /home/benja/anaconda3/envs/nlp/lib/python3.9/site-packages (from spacy<3.2.0,>=3.1.0->es-core-news-sm==3.1.0) (2.0.9)\n",
      "Requirement already satisfied: typer<0.4.0,>=0.3.0 in /home/benja/anaconda3/envs/nlp/lib/python3.9/site-packages (from spacy<3.2.0,>=3.1.0->es-core-news-sm==3.1.0) (0.3.2)\n",
      "Requirement already satisfied: pathy>=0.3.5 in /home/benja/anaconda3/envs/nlp/lib/python3.9/site-packages (from spacy<3.2.0,>=3.1.0->es-core-news-sm==3.1.0) (0.10.2)\n",
      "Requirement already satisfied: tqdm<5.0.0,>=4.38.0 in /home/benja/anaconda3/envs/nlp/lib/python3.9/site-packages (from spacy<3.2.0,>=3.1.0->es-core-news-sm==3.1.0) (4.66.1)\n",
      "Requirement already satisfied: numpy>=1.15.0 in /home/benja/anaconda3/envs/nlp/lib/python3.9/site-packages (from spacy<3.2.0,>=3.1.0->es-core-news-sm==3.1.0) (1.23.5)\n",
      "Requirement already satisfied: requests<3.0.0,>=2.13.0 in /home/benja/anaconda3/envs/nlp/lib/python3.9/site-packages (from spacy<3.2.0,>=3.1.0->es-core-news-sm==3.1.0) (2.31.0)\n",
      "Requirement already satisfied: pydantic!=1.8,!=1.8.1,<1.9.0,>=1.7.4 in /home/benja/anaconda3/envs/nlp/lib/python3.9/site-packages (from spacy<3.2.0,>=3.1.0->es-core-news-sm==3.1.0) (1.8.2)\n",
      "Requirement already satisfied: jinja2 in /home/benja/anaconda3/envs/nlp/lib/python3.9/site-packages (from spacy<3.2.0,>=3.1.0->es-core-news-sm==3.1.0) (3.1.2)\n",
      "Requirement already satisfied: setuptools in /home/benja/anaconda3/envs/nlp/lib/python3.9/site-packages (from spacy<3.2.0,>=3.1.0->es-core-news-sm==3.1.0) (68.1.2)\n",
      "Requirement already satisfied: packaging>=20.0 in /home/benja/anaconda3/envs/nlp/lib/python3.9/site-packages (from spacy<3.2.0,>=3.1.0->es-core-news-sm==3.1.0) (23.1)\n",
      "Requirement already satisfied: smart-open<7.0.0,>=5.2.1 in /home/benja/anaconda3/envs/nlp/lib/python3.9/site-packages (from pathy>=0.3.5->spacy<3.2.0,>=3.1.0->es-core-news-sm==3.1.0) (5.2.1)\n",
      "Requirement already satisfied: typing-extensions>=3.7.4.3 in /home/benja/anaconda3/envs/nlp/lib/python3.9/site-packages (from pydantic!=1.8,!=1.8.1,<1.9.0,>=1.7.4->spacy<3.2.0,>=3.1.0->es-core-news-sm==3.1.0) (4.7.1)\n",
      "Requirement already satisfied: charset-normalizer<4,>=2 in /home/benja/anaconda3/envs/nlp/lib/python3.9/site-packages (from requests<3.0.0,>=2.13.0->spacy<3.2.0,>=3.1.0->es-core-news-sm==3.1.0) (3.2.0)\n",
      "Requirement already satisfied: idna<4,>=2.5 in /home/benja/anaconda3/envs/nlp/lib/python3.9/site-packages (from requests<3.0.0,>=2.13.0->spacy<3.2.0,>=3.1.0->es-core-news-sm==3.1.0) (3.4)\n",
      "Requirement already satisfied: urllib3<3,>=1.21.1 in /home/benja/anaconda3/envs/nlp/lib/python3.9/site-packages (from requests<3.0.0,>=2.13.0->spacy<3.2.0,>=3.1.0->es-core-news-sm==3.1.0) (1.26.15)\n",
      "Requirement already satisfied: certifi>=2017.4.17 in /home/benja/anaconda3/envs/nlp/lib/python3.9/site-packages (from requests<3.0.0,>=2.13.0->spacy<3.2.0,>=3.1.0->es-core-news-sm==3.1.0) (2023.7.22)\n",
      "Requirement already satisfied: click<7.2.0,>=7.1.1 in /home/benja/anaconda3/envs/nlp/lib/python3.9/site-packages (from typer<0.4.0,>=0.3.0->spacy<3.2.0,>=3.1.0->es-core-news-sm==3.1.0) (7.1.2)\n",
      "Requirement already satisfied: MarkupSafe>=2.0 in /home/benja/anaconda3/envs/nlp/lib/python3.9/site-packages (from jinja2->spacy<3.2.0,>=3.1.0->es-core-news-sm==3.1.0) (2.1.3)\n",
      "\u001b[38;5;2m✔ Download and installation successful\u001b[0m\n",
      "You can now load the package via spacy.load('es_core_news_sm')\n"
     ]
    }
   ],
   "source": [
    "# Install libraries\n",
    "!pip install -U spacy==3.1 --quiet\n",
    "!pip install -U spacy-stanza==1.0.0 --quiet\n",
    "!python -m spacy download es_core_news_sm"
   ]
  },
  {
   "cell_type": "code",
   "execution_count": 2,
   "metadata": {
    "id": "kzao7XO9NJAq"
   },
   "outputs": [
    {
     "name": "stderr",
     "output_type": "stream",
     "text": [
      "/home/benja/anaconda3/envs/nlp/lib/python3.9/site-packages/tqdm/auto.py:21: TqdmWarning: IProgress not found. Please update jupyter and ipywidgets. See https://ipywidgets.readthedocs.io/en/stable/user_install.html\n",
      "  from .autonotebook import tqdm as notebook_tqdm\n",
      "2023-09-03 18:22:36.531602: I tensorflow/core/platform/cpu_feature_guard.cc:182] This TensorFlow binary is optimized to use available CPU instructions in performance-critical operations.\n",
      "To enable the following instructions: SSE4.1 SSE4.2 AVX AVX2 FMA, in other operations, rebuild TensorFlow with the appropriate compiler flags.\n"
     ]
    }
   ],
   "source": [
    "# Import libraries\n",
    "import json\n",
    "import string\n",
    "import random\n",
    "import numpy as np\n",
    "import spacy\n",
    "import es_core_news_sm\n",
    "import stanza\n",
    "import spacy_stanza\n",
    "import tensorflow as tf\n",
    "from tensorflow.keras import Sequential\n",
    "from tensorflow.keras.layers import Dense, Dropout"
   ]
  },
  {
   "cell_type": "code",
   "execution_count": 3,
   "metadata": {
    "id": "Z_ExOb8uvjqK"
   },
   "outputs": [
    {
     "name": "stderr",
     "output_type": "stream",
     "text": [
      "Downloading https://raw.githubusercontent.com/stanfordnlp/stanza-resources/main/resources_1.5.0.json: 216kB [00:00, 97.8MB/s]                    \n",
      "2023-09-03 18:22:38 INFO: Downloading default packages for language: es (Spanish) ...\n",
      "2023-09-03 18:22:39 INFO: File exists: /home/benja/stanza_resources/es/default.zip\n",
      "2023-09-03 18:22:43 INFO: Finished downloading models and saved to /home/benja/stanza_resources.\n",
      "2023-09-03 18:22:43 INFO: Checking for updates to resources.json in case models have been updated.  Note: this behavior can be turned off with download_method=None or download_method=DownloadMethod.REUSE_RESOURCES\n",
      "Downloading https://raw.githubusercontent.com/stanfordnlp/stanza-resources/main/resources_1.5.0.json: 216kB [00:00, 116MB/s]                     \n",
      "2023-09-03 18:22:44 INFO: Loading these models for language: es (Spanish):\n",
      "===========================\n",
      "| Processor    | Package  |\n",
      "---------------------------\n",
      "| tokenize     | ancora   |\n",
      "| mwt          | ancora   |\n",
      "| pos          | ancora   |\n",
      "| lemma        | ancora   |\n",
      "| constituency | combined |\n",
      "| depparse     | ancora   |\n",
      "| sentiment    | tass2020 |\n",
      "| ner          | conll02  |\n",
      "===========================\n",
      "\n",
      "2023-09-03 18:22:44 WARNING: GPU requested, but is not available!\n",
      "2023-09-03 18:22:44 INFO: Using device: cpu\n",
      "2023-09-03 18:22:44 INFO: Loading: tokenize\n",
      "2023-09-03 18:22:44 INFO: Loading: mwt\n",
      "2023-09-03 18:22:44 INFO: Loading: pos\n",
      "2023-09-03 18:22:44 INFO: Loading: lemma\n",
      "2023-09-03 18:22:44 INFO: Loading: constituency\n",
      "2023-09-03 18:22:45 INFO: Loading: depparse\n",
      "2023-09-03 18:22:45 INFO: Loading: sentiment\n",
      "2023-09-03 18:22:45 INFO: Loading: ner\n",
      "2023-09-03 18:22:45 INFO: Done loading processors!\n"
     ]
    }
   ],
   "source": [
    "# Download the dictionary in spanish\n",
    "stanza.download(\"es\")\n",
    "nlp = spacy_stanza.load_pipeline(\"es\")"
   ]
  },
  {
   "cell_type": "code",
   "execution_count": 4,
   "metadata": {},
   "outputs": [
    {
     "name": "stdout",
     "output_type": "stream",
     "text": [
      "Device Spec:  /job:localhost/replica:0/device:GPU:*\n"
     ]
    }
   ],
   "source": [
    "# Initializing Device Specification\n",
    "device_spec = tf.DeviceSpec(job =\"localhost\", replica = 0, device_type = \"GPU\")\n",
    " \n",
    "# Printing the DeviceSpec\n",
    "print('Device Spec: ', device_spec.to_string())"
   ]
  },
  {
   "attachments": {},
   "cell_type": "markdown",
   "metadata": {
    "id": "_wF10RjVMBdV"
   },
   "source": [
    "### 2 - Data processing tools"
   ]
  },
  {
   "cell_type": "code",
   "execution_count": 5,
   "metadata": {
    "id": "ZxoD2hEExmuX"
   },
   "outputs": [],
   "source": [
    "import re\n",
    "import unicodedata\n",
    "\n",
    "def preprocess_clean_text(text):    \n",
    "    text = unicodedata.normalize('NFKD', text).encode('ascii', 'ignore').decode('utf-8', 'ignore')\n",
    "    # Delete special characters\n",
    "    pattern = r'[^a-zA-z0-9.,!?/:;\\\"\\'\\s]' # [^ : None of this letters and symbols \n",
    "    text = re.sub(pattern, '', text)\n",
    "    pattern = r'[^a-zA-z.,!?/:;\\\"\\'\\s]' # igual al anterior pero sin cifras numéricas\n",
    "    # Delete numbers\n",
    "    text = re.sub(pattern, '', text)\n",
    "\n",
    "    # Delete puntuaction characters\n",
    "    text = ''.join([c for c in text if c not in string.punctuation])\n",
    "    \n",
    "    return text"
   ]
  },
  {
   "cell_type": "code",
   "execution_count": 6,
   "metadata": {
    "id": "q-MiMZjh5fu2"
   },
   "outputs": [
    {
     "data": {
      "text/plain": [
       "'asia africa europa lationamerica'"
      ]
     },
     "execution_count": 6,
     "metadata": {},
     "output_type": "execute_result"
    }
   ],
   "source": [
    "text = \"Asia!! Africa! EUROPA?! LATIONAMERICA\"\n",
    "\n",
    "# Before preprocessing convert to lowercase\n",
    "preprocess_clean_text(text.lower())"
   ]
  },
  {
   "cell_type": "code",
   "execution_count": 7,
   "metadata": {
    "id": "I9V-S8JbrtNn"
   },
   "outputs": [
    {
     "name": "stdout",
     "output_type": "stream",
     "text": [
      "tokens: asia africa europa lationamerica\n",
      "Lemmatizattion for every token:\n",
      "[asia, 'asia']\n",
      "[africa, 'africo']\n",
      "[europa, 'europo']\n",
      "[lationamerica, 'lationamerica']\n"
     ]
    }
   ],
   "source": [
    "text = \"Asia!! Africa! EUROPA?! LATIONAMERICA\"\n",
    "\n",
    "# Before of the preprocessing the data are convert to lower case\n",
    "tokens = nlp(preprocess_clean_text(text.lower()))\n",
    "print(\"tokens:\", tokens)\n",
    "print(\"Lemmatizattion for every token:\")\n",
    "for token in tokens:\n",
    "    print([token, token.lemma_])"
   ]
  },
  {
   "attachments": {},
   "cell_type": "markdown",
   "metadata": {
    "id": "19PEDmIDfLRu"
   },
   "source": [
    "### 3 - Preprocessing and dataset construction"
   ]
  },
  {
   "cell_type": "code",
   "execution_count": 8,
   "metadata": {
    "id": "b3HP8abHNRk3"
   },
   "outputs": [],
   "source": [
    "\n",
    "#nlp = spacy.load(\"es_core_news_sm\")\n",
    "# Word o vocabulary that will be necessary\n",
    "words = []\n",
    "classes = []\n",
    "doc_X = []\n",
    "doc_y = []\n",
    "\n",
    "data=open('./data/data.json').read()\n",
    "dataset=json.loads(data)\n",
    "#Create a set of stop words\n",
    "stop_words = spacy.lang.es.stop_words.STOP_WORDS\n",
    "\n",
    "for intent in dataset[\"intents\"]:\n",
    "    for pattern in intent[\"patterns\"]:\n",
    "        # Transform the pattern in token\n",
    "        tokens = nlp(preprocess_clean_text(pattern.lower()))\n",
    "        # Lemmatizate the patterns in tokens\n",
    "        for token in tokens:            \n",
    "            if not token.is_stop:\n",
    "                words.append(token.lemma_)    \n",
    "        \n",
    "            doc_X.append(pattern)\n",
    "            doc_y.append(intent[\"tag\"])\n",
    "    \n",
    "    # Add the tag to the class\n",
    "    if intent[\"tag\"] not in classes:\n",
    "        classes.append(intent[\"tag\"])\n",
    "\n",
    "# Delete the duplicate values with set and sort the vocabulary and the classes \n",
    "#in alphabetical order\n",
    "words = sorted(set(words))\n",
    "classes = sorted(set(classes))"
   ]
  },
  {
   "cell_type": "code",
   "execution_count": 9,
   "metadata": {
    "id": "Acy-gcugNbMH"
   },
   "outputs": [
    {
     "name": "stdout",
     "output_type": "stream",
     "text": [
      "words: ['adio', 'ayudarmar', 'chau', 'compania', 'contacto', 'correo', 'costo', 'credito', 'criptomoneda', 'cuota', 'direccion', 'electronico', 'email', 'empresa', 'gracias', 'hola', 'indicar', 'llama', 'medio', 'mobile', 'nombre', 'numero', 'ofrecer', 'pago', 'poder', 'precio', 'producto', 'ser', 'servicio', 'silotok', 'tarjeta', 'telefono', 'ubicacion', 'ubicado', 'whatsapp']\n",
      "classes: ['agradecimientos', 'bienvenida', 'contacto', 'contacto_email', 'despedida', 'nombre', 'pagos', 'precios_servicios', 'servicios', 'ubicación_empresa']\n",
      "doc_X: ['Hola', '¿Cómo estás?', '¿Cómo estás?', 'Hola, podrías ayudarme', 'Hola, podrías ayudarme', 'Hola, podrías ayudarme', '¿Cúal es tu nombre?', '¿Cúal es tu nombre?', '¿Cúal es tu nombre?', '¿Cúal es tu nombre?', '¿Quién sos?', '¿Quién sos?', '¿Me podrías decir tú nombre?', '¿Me podrías decir tú nombre?', '¿Me podrías decir tú nombre?', '¿Me podrías decir tú nombre?', '¿Me podrías decir tú nombre?', '¿Como te llamas?', '¿Como te llamas?', '¿Como te llamas?', 'contacto', 'número de contacto', 'número de contacto', 'número de contacto', 'número de teléfono', 'número de teléfono', 'número de teléfono', 'número de mobile', 'número de mobile', 'número de mobile', 'mobile', 'número de whatsapp', 'número de whatsapp', 'número de whatsapp', 'whatsapp', 'email', 'dirección electrónica', 'dirección electrónica', 'correo electrónico', 'correo electrónico', 'servicios', 'Me podrás indicar los servicios', 'Me podrás indicar los servicios', 'Me podrás indicar los servicios', 'Me podrás indicar los servicios', 'Me podrás indicar los servicios', '¿Qué servicios ofrecen?', '¿Qué servicios ofrecen?', '¿Qué servicios ofrecen?', 'Productos', 'Costo', 'Precio por servicio', 'Precio por servicio', 'Precio por servicio', 'Precios', 'medios de pago', 'medios de pago', 'medios de pago', 'tarjeta de crédito', 'tarjeta de crédito', 'tarjeta de crédito', 'tarjetas', 'cuotas', 'Criptomonedas', 'Silotokens', 'Donde está ubicada la empresa', 'Donde está ubicada la empresa', 'Donde está ubicada la empresa', 'Donde está ubicada la empresa', 'Donde está ubicada la empresa', 'Dirección de empresa', 'Dirección de empresa', 'Dirección de empresa', 'ubicación de la empresa', 'ubicación de la empresa', 'ubicación de la empresa', 'ubicación de la empresa', 'dirección de la compañia', 'dirección de la compañia', 'dirección de la compañia', 'dirección de la compañia', 'Muchas gracias', 'Muchas gracias', 'Gracias', 'Chau', 'Hasta luego!', 'Hasta luego!', 'Adiós']\n",
      "doc_y: ['bienvenida', 'bienvenida', 'bienvenida', 'bienvenida', 'bienvenida', 'bienvenida', 'nombre', 'nombre', 'nombre', 'nombre', 'nombre', 'nombre', 'nombre', 'nombre', 'nombre', 'nombre', 'nombre', 'nombre', 'nombre', 'nombre', 'contacto', 'contacto', 'contacto', 'contacto', 'contacto', 'contacto', 'contacto', 'contacto', 'contacto', 'contacto', 'contacto', 'contacto', 'contacto', 'contacto', 'contacto', 'contacto_email', 'contacto_email', 'contacto_email', 'contacto_email', 'contacto_email', 'servicios', 'servicios', 'servicios', 'servicios', 'servicios', 'servicios', 'servicios', 'servicios', 'servicios', 'servicios', 'precios_servicios', 'precios_servicios', 'precios_servicios', 'precios_servicios', 'precios_servicios', 'pagos', 'pagos', 'pagos', 'pagos', 'pagos', 'pagos', 'pagos', 'pagos', 'pagos', 'pagos', 'ubicación_empresa', 'ubicación_empresa', 'ubicación_empresa', 'ubicación_empresa', 'ubicación_empresa', 'ubicación_empresa', 'ubicación_empresa', 'ubicación_empresa', 'ubicación_empresa', 'ubicación_empresa', 'ubicación_empresa', 'ubicación_empresa', 'ubicación_empresa', 'ubicación_empresa', 'ubicación_empresa', 'ubicación_empresa', 'agradecimientos', 'agradecimientos', 'agradecimientos', 'despedida', 'despedida', 'despedida', 'despedida']\n"
     ]
    }
   ],
   "source": [
    "print(\"words:\", words)\n",
    "print(\"classes:\", classes)\n",
    "print(\"doc_X:\", doc_X)\n",
    "print(\"doc_y:\", doc_y)"
   ]
  },
  {
   "cell_type": "code",
   "execution_count": 10,
   "metadata": {
    "id": "YI0L2U7IQcvy"
   },
   "outputs": [
    {
     "name": "stdout",
     "output_type": "stream",
     "text": [
      "Vocabulario: 35\n"
     ]
    }
   ],
   "source": [
    "# Vocabulary size\n",
    "print(\"Vocabulario:\", len(words))"
   ]
  },
  {
   "cell_type": "code",
   "execution_count": 11,
   "metadata": {
    "id": "hqBeGKRk_q4r"
   },
   "outputs": [
    {
     "name": "stdout",
     "output_type": "stream",
     "text": [
      "Tags: 10\n"
     ]
    }
   ],
   "source": [
    "# Tag numbers\n",
    "print(\"Tags:\", len(classes))"
   ]
  },
  {
   "cell_type": "code",
   "execution_count": 12,
   "metadata": {
    "id": "vpbJ0guPN2Uq"
   },
   "outputs": [
    {
     "name": "stdout",
     "output_type": "stream",
     "text": [
      "X: [0, 0, 0, 0, 0, 0, 0, 0, 0, 0, 0, 0, 0, 0, 0, 1, 0, 0, 0, 0, 0, 0, 0, 0, 0, 0, 0, 0, 0, 0, 0, 0, 0, 0, 0] y: [0, 1, 0, 0, 0, 0, 0, 0, 0, 0]\n",
      "X: [0, 0, 0, 0, 0, 0, 0, 0, 0, 0, 0, 0, 0, 0, 0, 0, 0, 0, 0, 0, 0, 0, 0, 0, 0, 0, 0, 0, 0, 0, 0, 0, 0, 0, 0] y: [0, 1, 0, 0, 0, 0, 0, 0, 0, 0]\n",
      "X: [0, 0, 0, 0, 0, 0, 0, 0, 0, 0, 0, 0, 0, 0, 0, 0, 0, 0, 0, 0, 0, 0, 0, 0, 0, 0, 0, 0, 0, 0, 0, 0, 0, 0, 0] y: [0, 1, 0, 0, 0, 0, 0, 0, 0, 0]\n",
      "X: [0, 1, 0, 0, 0, 0, 0, 0, 0, 0, 0, 0, 0, 0, 0, 1, 0, 0, 0, 0, 0, 0, 0, 0, 1, 0, 0, 0, 0, 0, 0, 0, 0, 0, 0] y: [0, 1, 0, 0, 0, 0, 0, 0, 0, 0]\n",
      "X: [0, 1, 0, 0, 0, 0, 0, 0, 0, 0, 0, 0, 0, 0, 0, 1, 0, 0, 0, 0, 0, 0, 0, 0, 1, 0, 0, 0, 0, 0, 0, 0, 0, 0, 0] y: [0, 1, 0, 0, 0, 0, 0, 0, 0, 0]\n",
      "X: [0, 1, 0, 0, 0, 0, 0, 0, 0, 0, 0, 0, 0, 0, 0, 1, 0, 0, 0, 0, 0, 0, 0, 0, 1, 0, 0, 0, 0, 0, 0, 0, 0, 0, 0] y: [0, 1, 0, 0, 0, 0, 0, 0, 0, 0]\n",
      "X: [0, 0, 0, 0, 0, 0, 0, 0, 0, 0, 0, 0, 0, 0, 0, 0, 0, 0, 0, 0, 1, 0, 0, 0, 0, 0, 0, 1, 0, 0, 0, 0, 0, 0, 0] y: [0, 0, 0, 0, 0, 1, 0, 0, 0, 0]\n",
      "X: [0, 0, 0, 0, 0, 0, 0, 0, 0, 0, 0, 0, 0, 0, 0, 0, 0, 0, 0, 0, 1, 0, 0, 0, 0, 0, 0, 1, 0, 0, 0, 0, 0, 0, 0] y: [0, 0, 0, 0, 0, 1, 0, 0, 0, 0]\n",
      "X: [0, 0, 0, 0, 0, 0, 0, 0, 0, 0, 0, 0, 0, 0, 0, 0, 0, 0, 0, 0, 1, 0, 0, 0, 0, 0, 0, 1, 0, 0, 0, 0, 0, 0, 0] y: [0, 0, 0, 0, 0, 1, 0, 0, 0, 0]\n",
      "X: [0, 0, 0, 0, 0, 0, 0, 0, 0, 0, 0, 0, 0, 0, 0, 0, 0, 0, 0, 0, 1, 0, 0, 0, 0, 0, 0, 1, 0, 0, 0, 0, 0, 0, 0] y: [0, 0, 0, 0, 0, 1, 0, 0, 0, 0]\n",
      "X: [0, 0, 0, 0, 0, 0, 0, 0, 0, 0, 0, 0, 0, 0, 0, 0, 0, 0, 0, 0, 0, 0, 0, 0, 0, 0, 0, 1, 0, 0, 0, 0, 0, 0, 0] y: [0, 0, 0, 0, 0, 1, 0, 0, 0, 0]\n",
      "X: [0, 0, 0, 0, 0, 0, 0, 0, 0, 0, 0, 0, 0, 0, 0, 0, 0, 0, 0, 0, 0, 0, 0, 0, 0, 0, 0, 1, 0, 0, 0, 0, 0, 0, 0] y: [0, 0, 0, 0, 0, 1, 0, 0, 0, 0]\n",
      "X: [0, 0, 0, 0, 0, 0, 0, 0, 0, 0, 0, 0, 0, 0, 0, 0, 0, 0, 0, 0, 1, 0, 0, 0, 1, 0, 0, 0, 0, 0, 0, 0, 0, 0, 0] y: [0, 0, 0, 0, 0, 1, 0, 0, 0, 0]\n",
      "X: [0, 0, 0, 0, 0, 0, 0, 0, 0, 0, 0, 0, 0, 0, 0, 0, 0, 0, 0, 0, 1, 0, 0, 0, 1, 0, 0, 0, 0, 0, 0, 0, 0, 0, 0] y: [0, 0, 0, 0, 0, 1, 0, 0, 0, 0]\n",
      "X: [0, 0, 0, 0, 0, 0, 0, 0, 0, 0, 0, 0, 0, 0, 0, 0, 0, 0, 0, 0, 1, 0, 0, 0, 1, 0, 0, 0, 0, 0, 0, 0, 0, 0, 0] y: [0, 0, 0, 0, 0, 1, 0, 0, 0, 0]\n",
      "X: [0, 0, 0, 0, 0, 0, 0, 0, 0, 0, 0, 0, 0, 0, 0, 0, 0, 0, 0, 0, 1, 0, 0, 0, 1, 0, 0, 0, 0, 0, 0, 0, 0, 0, 0] y: [0, 0, 0, 0, 0, 1, 0, 0, 0, 0]\n",
      "X: [0, 0, 0, 0, 0, 0, 0, 0, 0, 0, 0, 0, 0, 0, 0, 0, 0, 0, 0, 0, 1, 0, 0, 0, 1, 0, 0, 0, 0, 0, 0, 0, 0, 0, 0] y: [0, 0, 0, 0, 0, 1, 0, 0, 0, 0]\n",
      "X: [0, 0, 0, 0, 0, 0, 0, 0, 0, 0, 0, 0, 0, 0, 0, 0, 0, 1, 0, 0, 0, 0, 0, 0, 0, 0, 0, 0, 0, 0, 0, 0, 0, 0, 0] y: [0, 0, 0, 0, 0, 1, 0, 0, 0, 0]\n",
      "X: [0, 0, 0, 0, 0, 0, 0, 0, 0, 0, 0, 0, 0, 0, 0, 0, 0, 1, 0, 0, 0, 0, 0, 0, 0, 0, 0, 0, 0, 0, 0, 0, 0, 0, 0] y: [0, 0, 0, 0, 0, 1, 0, 0, 0, 0]\n",
      "X: [0, 0, 0, 0, 0, 0, 0, 0, 0, 0, 0, 0, 0, 0, 0, 0, 0, 1, 0, 0, 0, 0, 0, 0, 0, 0, 0, 0, 0, 0, 0, 0, 0, 0, 0] y: [0, 0, 0, 0, 0, 1, 0, 0, 0, 0]\n",
      "X: [0, 0, 0, 0, 1, 0, 0, 0, 0, 0, 0, 0, 0, 0, 0, 0, 0, 0, 0, 0, 0, 0, 0, 0, 0, 0, 0, 0, 0, 0, 0, 0, 0, 0, 0] y: [0, 0, 1, 0, 0, 0, 0, 0, 0, 0]\n",
      "X: [0, 0, 0, 0, 1, 0, 0, 0, 0, 0, 0, 0, 0, 0, 0, 0, 0, 0, 0, 0, 0, 1, 0, 0, 0, 0, 0, 0, 0, 0, 0, 0, 0, 0, 0] y: [0, 0, 1, 0, 0, 0, 0, 0, 0, 0]\n",
      "X: [0, 0, 0, 0, 1, 0, 0, 0, 0, 0, 0, 0, 0, 0, 0, 0, 0, 0, 0, 0, 0, 1, 0, 0, 0, 0, 0, 0, 0, 0, 0, 0, 0, 0, 0] y: [0, 0, 1, 0, 0, 0, 0, 0, 0, 0]\n",
      "X: [0, 0, 0, 0, 1, 0, 0, 0, 0, 0, 0, 0, 0, 0, 0, 0, 0, 0, 0, 0, 0, 1, 0, 0, 0, 0, 0, 0, 0, 0, 0, 0, 0, 0, 0] y: [0, 0, 1, 0, 0, 0, 0, 0, 0, 0]\n",
      "X: [0, 0, 0, 0, 0, 0, 0, 0, 0, 0, 0, 0, 0, 0, 0, 0, 0, 0, 0, 0, 0, 1, 0, 0, 0, 0, 0, 0, 0, 0, 0, 1, 0, 0, 0] y: [0, 0, 1, 0, 0, 0, 0, 0, 0, 0]\n",
      "X: [0, 0, 0, 0, 0, 0, 0, 0, 0, 0, 0, 0, 0, 0, 0, 0, 0, 0, 0, 0, 0, 1, 0, 0, 0, 0, 0, 0, 0, 0, 0, 1, 0, 0, 0] y: [0, 0, 1, 0, 0, 0, 0, 0, 0, 0]\n",
      "X: [0, 0, 0, 0, 0, 0, 0, 0, 0, 0, 0, 0, 0, 0, 0, 0, 0, 0, 0, 0, 0, 1, 0, 0, 0, 0, 0, 0, 0, 0, 0, 1, 0, 0, 0] y: [0, 0, 1, 0, 0, 0, 0, 0, 0, 0]\n",
      "X: [0, 0, 0, 0, 0, 0, 0, 0, 0, 0, 0, 0, 0, 0, 0, 0, 0, 0, 0, 1, 0, 1, 0, 0, 0, 0, 0, 0, 0, 0, 0, 0, 0, 0, 0] y: [0, 0, 1, 0, 0, 0, 0, 0, 0, 0]\n",
      "X: [0, 0, 0, 0, 0, 0, 0, 0, 0, 0, 0, 0, 0, 0, 0, 0, 0, 0, 0, 1, 0, 1, 0, 0, 0, 0, 0, 0, 0, 0, 0, 0, 0, 0, 0] y: [0, 0, 1, 0, 0, 0, 0, 0, 0, 0]\n",
      "X: [0, 0, 0, 0, 0, 0, 0, 0, 0, 0, 0, 0, 0, 0, 0, 0, 0, 0, 0, 1, 0, 1, 0, 0, 0, 0, 0, 0, 0, 0, 0, 0, 0, 0, 0] y: [0, 0, 1, 0, 0, 0, 0, 0, 0, 0]\n",
      "X: [0, 0, 0, 0, 0, 0, 0, 0, 0, 0, 0, 0, 0, 0, 0, 0, 0, 0, 0, 1, 0, 0, 0, 0, 0, 0, 0, 0, 0, 0, 0, 0, 0, 0, 0] y: [0, 0, 1, 0, 0, 0, 0, 0, 0, 0]\n",
      "X: [0, 0, 0, 0, 0, 0, 0, 0, 0, 0, 0, 0, 0, 0, 0, 0, 0, 0, 0, 0, 0, 1, 0, 0, 0, 0, 0, 0, 0, 0, 0, 0, 0, 0, 1] y: [0, 0, 1, 0, 0, 0, 0, 0, 0, 0]\n",
      "X: [0, 0, 0, 0, 0, 0, 0, 0, 0, 0, 0, 0, 0, 0, 0, 0, 0, 0, 0, 0, 0, 1, 0, 0, 0, 0, 0, 0, 0, 0, 0, 0, 0, 0, 1] y: [0, 0, 1, 0, 0, 0, 0, 0, 0, 0]\n",
      "X: [0, 0, 0, 0, 0, 0, 0, 0, 0, 0, 0, 0, 0, 0, 0, 0, 0, 0, 0, 0, 0, 1, 0, 0, 0, 0, 0, 0, 0, 0, 0, 0, 0, 0, 1] y: [0, 0, 1, 0, 0, 0, 0, 0, 0, 0]\n",
      "X: [0, 0, 0, 0, 0, 0, 0, 0, 0, 0, 0, 0, 0, 0, 0, 0, 0, 0, 0, 0, 0, 0, 0, 0, 0, 0, 0, 0, 0, 0, 0, 0, 0, 0, 1] y: [0, 0, 1, 0, 0, 0, 0, 0, 0, 0]\n",
      "X: [0, 0, 0, 0, 0, 0, 0, 0, 0, 0, 0, 0, 1, 0, 0, 0, 0, 0, 0, 0, 0, 0, 0, 0, 0, 0, 0, 0, 0, 0, 0, 0, 0, 0, 0] y: [0, 0, 0, 1, 0, 0, 0, 0, 0, 0]\n",
      "X: [0, 0, 0, 0, 0, 0, 0, 0, 0, 0, 1, 1, 0, 0, 0, 0, 0, 0, 0, 0, 0, 0, 0, 0, 0, 0, 0, 0, 0, 0, 0, 0, 0, 0, 0] y: [0, 0, 0, 1, 0, 0, 0, 0, 0, 0]\n",
      "X: [0, 0, 0, 0, 0, 0, 0, 0, 0, 0, 1, 1, 0, 0, 0, 0, 0, 0, 0, 0, 0, 0, 0, 0, 0, 0, 0, 0, 0, 0, 0, 0, 0, 0, 0] y: [0, 0, 0, 1, 0, 0, 0, 0, 0, 0]\n",
      "X: [0, 0, 0, 0, 0, 1, 0, 0, 0, 0, 0, 1, 0, 0, 0, 0, 0, 0, 0, 0, 0, 0, 0, 0, 0, 0, 0, 0, 0, 0, 0, 0, 0, 0, 0] y: [0, 0, 0, 1, 0, 0, 0, 0, 0, 0]\n",
      "X: [0, 0, 0, 0, 0, 1, 0, 0, 0, 0, 0, 1, 0, 0, 0, 0, 0, 0, 0, 0, 0, 0, 0, 0, 0, 0, 0, 0, 0, 0, 0, 0, 0, 0, 0] y: [0, 0, 0, 1, 0, 0, 0, 0, 0, 0]\n",
      "X: [0, 0, 0, 0, 0, 0, 0, 0, 0, 0, 0, 0, 0, 0, 0, 0, 0, 0, 0, 0, 0, 0, 0, 0, 0, 0, 0, 0, 1, 0, 0, 0, 0, 0, 0] y: [0, 0, 0, 0, 0, 0, 0, 0, 1, 0]\n",
      "X: [0, 0, 0, 0, 0, 0, 0, 0, 0, 0, 0, 0, 0, 0, 0, 0, 1, 0, 0, 0, 0, 0, 0, 0, 1, 0, 0, 0, 1, 0, 0, 0, 0, 0, 0] y: [0, 0, 0, 0, 0, 0, 0, 0, 1, 0]\n",
      "X: [0, 0, 0, 0, 0, 0, 0, 0, 0, 0, 0, 0, 0, 0, 0, 0, 1, 0, 0, 0, 0, 0, 0, 0, 1, 0, 0, 0, 1, 0, 0, 0, 0, 0, 0] y: [0, 0, 0, 0, 0, 0, 0, 0, 1, 0]\n",
      "X: [0, 0, 0, 0, 0, 0, 0, 0, 0, 0, 0, 0, 0, 0, 0, 0, 1, 0, 0, 0, 0, 0, 0, 0, 1, 0, 0, 0, 1, 0, 0, 0, 0, 0, 0] y: [0, 0, 0, 0, 0, 0, 0, 0, 1, 0]\n",
      "X: [0, 0, 0, 0, 0, 0, 0, 0, 0, 0, 0, 0, 0, 0, 0, 0, 1, 0, 0, 0, 0, 0, 0, 0, 1, 0, 0, 0, 1, 0, 0, 0, 0, 0, 0] y: [0, 0, 0, 0, 0, 0, 0, 0, 1, 0]\n",
      "X: [0, 0, 0, 0, 0, 0, 0, 0, 0, 0, 0, 0, 0, 0, 0, 0, 1, 0, 0, 0, 0, 0, 0, 0, 1, 0, 0, 0, 1, 0, 0, 0, 0, 0, 0] y: [0, 0, 0, 0, 0, 0, 0, 0, 1, 0]\n",
      "X: [0, 0, 0, 0, 0, 0, 0, 0, 0, 0, 0, 0, 0, 0, 0, 0, 0, 0, 0, 0, 0, 0, 1, 0, 0, 0, 0, 0, 1, 0, 0, 0, 0, 0, 0] y: [0, 0, 0, 0, 0, 0, 0, 0, 1, 0]\n",
      "X: [0, 0, 0, 0, 0, 0, 0, 0, 0, 0, 0, 0, 0, 0, 0, 0, 0, 0, 0, 0, 0, 0, 1, 0, 0, 0, 0, 0, 1, 0, 0, 0, 0, 0, 0] y: [0, 0, 0, 0, 0, 0, 0, 0, 1, 0]\n",
      "X: [0, 0, 0, 0, 0, 0, 0, 0, 0, 0, 0, 0, 0, 0, 0, 0, 0, 0, 0, 0, 0, 0, 1, 0, 0, 0, 0, 0, 1, 0, 0, 0, 0, 0, 0] y: [0, 0, 0, 0, 0, 0, 0, 0, 1, 0]\n",
      "X: [0, 0, 0, 0, 0, 0, 0, 0, 0, 0, 0, 0, 0, 0, 0, 0, 0, 0, 0, 0, 0, 0, 0, 0, 0, 0, 1, 0, 0, 0, 0, 0, 0, 0, 0] y: [0, 0, 0, 0, 0, 0, 0, 0, 1, 0]\n",
      "X: [0, 0, 0, 0, 0, 0, 1, 0, 0, 0, 0, 0, 0, 0, 0, 0, 0, 0, 0, 0, 0, 0, 0, 0, 0, 0, 0, 0, 0, 0, 0, 0, 0, 0, 0] y: [0, 0, 0, 0, 0, 0, 0, 1, 0, 0]\n",
      "X: [0, 0, 0, 0, 0, 0, 0, 0, 0, 0, 0, 0, 0, 0, 0, 0, 0, 0, 0, 0, 0, 0, 0, 0, 0, 1, 0, 0, 1, 0, 0, 0, 0, 0, 0] y: [0, 0, 0, 0, 0, 0, 0, 1, 0, 0]\n",
      "X: [0, 0, 0, 0, 0, 0, 0, 0, 0, 0, 0, 0, 0, 0, 0, 0, 0, 0, 0, 0, 0, 0, 0, 0, 0, 1, 0, 0, 1, 0, 0, 0, 0, 0, 0] y: [0, 0, 0, 0, 0, 0, 0, 1, 0, 0]\n",
      "X: [0, 0, 0, 0, 0, 0, 0, 0, 0, 0, 0, 0, 0, 0, 0, 0, 0, 0, 0, 0, 0, 0, 0, 0, 0, 1, 0, 0, 1, 0, 0, 0, 0, 0, 0] y: [0, 0, 0, 0, 0, 0, 0, 1, 0, 0]\n",
      "X: [0, 0, 0, 0, 0, 0, 0, 0, 0, 0, 0, 0, 0, 0, 0, 0, 0, 0, 0, 0, 0, 0, 0, 0, 0, 1, 0, 0, 0, 0, 0, 0, 0, 0, 0] y: [0, 0, 0, 0, 0, 0, 0, 1, 0, 0]\n",
      "X: [0, 0, 0, 0, 0, 0, 0, 0, 0, 0, 0, 0, 0, 0, 0, 0, 0, 0, 1, 0, 0, 0, 0, 1, 0, 0, 0, 0, 0, 0, 0, 0, 0, 0, 0] y: [0, 0, 0, 0, 0, 0, 1, 0, 0, 0]\n",
      "X: [0, 0, 0, 0, 0, 0, 0, 0, 0, 0, 0, 0, 0, 0, 0, 0, 0, 0, 1, 0, 0, 0, 0, 1, 0, 0, 0, 0, 0, 0, 0, 0, 0, 0, 0] y: [0, 0, 0, 0, 0, 0, 1, 0, 0, 0]\n",
      "X: [0, 0, 0, 0, 0, 0, 0, 0, 0, 0, 0, 0, 0, 0, 0, 0, 0, 0, 1, 0, 0, 0, 0, 1, 0, 0, 0, 0, 0, 0, 0, 0, 0, 0, 0] y: [0, 0, 0, 0, 0, 0, 1, 0, 0, 0]\n",
      "X: [0, 0, 0, 0, 0, 0, 0, 1, 0, 0, 0, 0, 0, 0, 0, 0, 0, 0, 0, 0, 0, 0, 0, 0, 0, 0, 0, 0, 0, 0, 1, 0, 0, 0, 0] y: [0, 0, 0, 0, 0, 0, 1, 0, 0, 0]\n",
      "X: [0, 0, 0, 0, 0, 0, 0, 1, 0, 0, 0, 0, 0, 0, 0, 0, 0, 0, 0, 0, 0, 0, 0, 0, 0, 0, 0, 0, 0, 0, 1, 0, 0, 0, 0] y: [0, 0, 0, 0, 0, 0, 1, 0, 0, 0]\n",
      "X: [0, 0, 0, 0, 0, 0, 0, 1, 0, 0, 0, 0, 0, 0, 0, 0, 0, 0, 0, 0, 0, 0, 0, 0, 0, 0, 0, 0, 0, 0, 1, 0, 0, 0, 0] y: [0, 0, 0, 0, 0, 0, 1, 0, 0, 0]\n",
      "X: [0, 0, 0, 0, 0, 0, 0, 0, 0, 0, 0, 0, 0, 0, 0, 0, 0, 0, 0, 0, 0, 0, 0, 0, 0, 0, 0, 0, 0, 0, 1, 0, 0, 0, 0] y: [0, 0, 0, 0, 0, 0, 1, 0, 0, 0]\n",
      "X: [0, 0, 0, 0, 0, 0, 0, 0, 0, 1, 0, 0, 0, 0, 0, 0, 0, 0, 0, 0, 0, 0, 0, 0, 0, 0, 0, 0, 0, 0, 0, 0, 0, 0, 0] y: [0, 0, 0, 0, 0, 0, 1, 0, 0, 0]\n",
      "X: [0, 0, 0, 0, 0, 0, 0, 0, 1, 0, 0, 0, 0, 0, 0, 0, 0, 0, 0, 0, 0, 0, 0, 0, 0, 0, 0, 0, 0, 0, 0, 0, 0, 0, 0] y: [0, 0, 0, 0, 0, 0, 1, 0, 0, 0]\n",
      "X: [0, 0, 0, 0, 0, 0, 0, 0, 0, 0, 0, 0, 0, 0, 0, 0, 0, 0, 0, 0, 0, 0, 0, 0, 0, 0, 0, 0, 0, 1, 0, 0, 0, 0, 0] y: [0, 0, 0, 0, 0, 0, 1, 0, 0, 0]\n",
      "X: [0, 0, 0, 0, 0, 0, 0, 0, 0, 0, 0, 0, 0, 1, 0, 0, 0, 0, 0, 0, 0, 0, 0, 0, 0, 0, 0, 0, 0, 0, 0, 0, 0, 1, 0] y: [0, 0, 0, 0, 0, 0, 0, 0, 0, 1]\n",
      "X: [0, 0, 0, 0, 0, 0, 0, 0, 0, 0, 0, 0, 0, 1, 0, 0, 0, 0, 0, 0, 0, 0, 0, 0, 0, 0, 0, 0, 0, 0, 0, 0, 0, 1, 0] y: [0, 0, 0, 0, 0, 0, 0, 0, 0, 1]\n",
      "X: [0, 0, 0, 0, 0, 0, 0, 0, 0, 0, 0, 0, 0, 1, 0, 0, 0, 0, 0, 0, 0, 0, 0, 0, 0, 0, 0, 0, 0, 0, 0, 0, 0, 1, 0] y: [0, 0, 0, 0, 0, 0, 0, 0, 0, 1]\n",
      "X: [0, 0, 0, 0, 0, 0, 0, 0, 0, 0, 0, 0, 0, 1, 0, 0, 0, 0, 0, 0, 0, 0, 0, 0, 0, 0, 0, 0, 0, 0, 0, 0, 0, 1, 0] y: [0, 0, 0, 0, 0, 0, 0, 0, 0, 1]\n",
      "X: [0, 0, 0, 0, 0, 0, 0, 0, 0, 0, 0, 0, 0, 1, 0, 0, 0, 0, 0, 0, 0, 0, 0, 0, 0, 0, 0, 0, 0, 0, 0, 0, 0, 1, 0] y: [0, 0, 0, 0, 0, 0, 0, 0, 0, 1]\n",
      "X: [0, 0, 0, 0, 0, 0, 0, 0, 0, 0, 1, 0, 0, 1, 0, 0, 0, 0, 0, 0, 0, 0, 0, 0, 0, 0, 0, 0, 0, 0, 0, 0, 0, 0, 0] y: [0, 0, 0, 0, 0, 0, 0, 0, 0, 1]\n",
      "X: [0, 0, 0, 0, 0, 0, 0, 0, 0, 0, 1, 0, 0, 1, 0, 0, 0, 0, 0, 0, 0, 0, 0, 0, 0, 0, 0, 0, 0, 0, 0, 0, 0, 0, 0] y: [0, 0, 0, 0, 0, 0, 0, 0, 0, 1]\n",
      "X: [0, 0, 0, 0, 0, 0, 0, 0, 0, 0, 1, 0, 0, 1, 0, 0, 0, 0, 0, 0, 0, 0, 0, 0, 0, 0, 0, 0, 0, 0, 0, 0, 0, 0, 0] y: [0, 0, 0, 0, 0, 0, 0, 0, 0, 1]\n",
      "X: [0, 0, 0, 0, 0, 0, 0, 0, 0, 0, 0, 0, 0, 1, 0, 0, 0, 0, 0, 0, 0, 0, 0, 0, 0, 0, 0, 0, 0, 0, 0, 0, 1, 0, 0] y: [0, 0, 0, 0, 0, 0, 0, 0, 0, 1]\n",
      "X: [0, 0, 0, 0, 0, 0, 0, 0, 0, 0, 0, 0, 0, 1, 0, 0, 0, 0, 0, 0, 0, 0, 0, 0, 0, 0, 0, 0, 0, 0, 0, 0, 1, 0, 0] y: [0, 0, 0, 0, 0, 0, 0, 0, 0, 1]\n",
      "X: [0, 0, 0, 0, 0, 0, 0, 0, 0, 0, 0, 0, 0, 1, 0, 0, 0, 0, 0, 0, 0, 0, 0, 0, 0, 0, 0, 0, 0, 0, 0, 0, 1, 0, 0] y: [0, 0, 0, 0, 0, 0, 0, 0, 0, 1]\n",
      "X: [0, 0, 0, 0, 0, 0, 0, 0, 0, 0, 0, 0, 0, 1, 0, 0, 0, 0, 0, 0, 0, 0, 0, 0, 0, 0, 0, 0, 0, 0, 0, 0, 1, 0, 0] y: [0, 0, 0, 0, 0, 0, 0, 0, 0, 1]\n",
      "X: [0, 0, 0, 1, 0, 0, 0, 0, 0, 0, 1, 0, 0, 0, 0, 0, 0, 0, 0, 0, 0, 0, 0, 0, 0, 0, 0, 0, 0, 0, 0, 0, 0, 0, 0] y: [0, 0, 0, 0, 0, 0, 0, 0, 0, 1]\n",
      "X: [0, 0, 0, 1, 0, 0, 0, 0, 0, 0, 1, 0, 0, 0, 0, 0, 0, 0, 0, 0, 0, 0, 0, 0, 0, 0, 0, 0, 0, 0, 0, 0, 0, 0, 0] y: [0, 0, 0, 0, 0, 0, 0, 0, 0, 1]\n",
      "X: [0, 0, 0, 1, 0, 0, 0, 0, 0, 0, 1, 0, 0, 0, 0, 0, 0, 0, 0, 0, 0, 0, 0, 0, 0, 0, 0, 0, 0, 0, 0, 0, 0, 0, 0] y: [0, 0, 0, 0, 0, 0, 0, 0, 0, 1]\n",
      "X: [0, 0, 0, 1, 0, 0, 0, 0, 0, 0, 1, 0, 0, 0, 0, 0, 0, 0, 0, 0, 0, 0, 0, 0, 0, 0, 0, 0, 0, 0, 0, 0, 0, 0, 0] y: [0, 0, 0, 0, 0, 0, 0, 0, 0, 1]\n",
      "X: [0, 0, 0, 0, 0, 0, 0, 0, 0, 0, 0, 0, 0, 0, 1, 0, 0, 0, 0, 0, 0, 0, 0, 0, 0, 0, 0, 0, 0, 0, 0, 0, 0, 0, 0] y: [1, 0, 0, 0, 0, 0, 0, 0, 0, 0]\n",
      "X: [0, 0, 0, 0, 0, 0, 0, 0, 0, 0, 0, 0, 0, 0, 1, 0, 0, 0, 0, 0, 0, 0, 0, 0, 0, 0, 0, 0, 0, 0, 0, 0, 0, 0, 0] y: [1, 0, 0, 0, 0, 0, 0, 0, 0, 0]\n",
      "X: [0, 0, 0, 0, 0, 0, 0, 0, 0, 0, 0, 0, 0, 0, 1, 0, 0, 0, 0, 0, 0, 0, 0, 0, 0, 0, 0, 0, 0, 0, 0, 0, 0, 0, 0] y: [1, 0, 0, 0, 0, 0, 0, 0, 0, 0]\n",
      "X: [0, 0, 1, 0, 0, 0, 0, 0, 0, 0, 0, 0, 0, 0, 0, 0, 0, 0, 0, 0, 0, 0, 0, 0, 0, 0, 0, 0, 0, 0, 0, 0, 0, 0, 0] y: [0, 0, 0, 0, 1, 0, 0, 0, 0, 0]\n",
      "X: [0, 0, 0, 0, 0, 0, 0, 0, 0, 0, 0, 0, 0, 0, 0, 0, 0, 0, 0, 0, 0, 0, 0, 0, 0, 0, 0, 0, 0, 0, 0, 0, 0, 0, 0] y: [0, 0, 0, 0, 1, 0, 0, 0, 0, 0]\n",
      "X: [0, 0, 0, 0, 0, 0, 0, 0, 0, 0, 0, 0, 0, 0, 0, 0, 0, 0, 0, 0, 0, 0, 0, 0, 0, 0, 0, 0, 0, 0, 0, 0, 0, 0, 0] y: [0, 0, 0, 0, 1, 0, 0, 0, 0, 0]\n",
      "X: [1, 0, 0, 0, 0, 0, 0, 0, 0, 0, 0, 0, 0, 0, 0, 0, 0, 0, 0, 0, 0, 0, 0, 0, 0, 0, 0, 0, 0, 0, 0, 0, 0, 0, 0] y: [0, 0, 0, 0, 1, 0, 0, 0, 0, 0]\n"
     ]
    }
   ],
   "source": [
    "# Transform  doc_X in bag of words by oneHotEncoding\n",
    "# Transform  doc_Y in a vector of multicategorical multiclass  with oneHotEncoding\n",
    "\n",
    "training = []\n",
    "out_empty = [0] * len(classes)\n",
    "\n",
    "for idx, doc in enumerate(doc_X):\n",
    "    # Transform the input in tokens and lemmatizate\n",
    "    text = []\n",
    "    tokens = nlp(preprocess_clean_text(doc.lower()))\n",
    "    for token in tokens:\n",
    "        text.append(token.lemma_)\n",
    "\n",
    "    # Transform the tokens in \"BoW\"\n",
    "    bow = []\n",
    "    for word in words:\n",
    "        bow.append(1) if word in text else bow.append(0)\n",
    "    \n",
    "    # Create the output array\n",
    "    output_row = list(out_empty)\n",
    "    output_row[classes.index(doc_y[idx])] = 1\n",
    "\n",
    "    print(\"X:\", bow, \"y:\", output_row)\n",
    "    training.append([bow, output_row])\n",
    "\n",
    "# Mix the data\n",
    "random.shuffle(training)\n",
    "training = np.array(training, dtype=object)\n",
    "# Split in input and output data\n",
    "train_X = np.array(list(training[:, 0]))\n",
    "train_y = np.array(list(training[:, 1]))"
   ]
  },
  {
   "attachments": {},
   "cell_type": "markdown",
   "metadata": {
    "id": "a_Hr8QaDfRf3"
   },
   "source": [
    "### 4 - Training model"
   ]
  },
  {
   "cell_type": "code",
   "execution_count": 13,
   "metadata": {
    "id": "fopb3NqcAGTz"
   },
   "outputs": [
    {
     "name": "stdout",
     "output_type": "stream",
     "text": [
      "input: (35,) output: 10\n"
     ]
    }
   ],
   "source": [
    "input_shape = (train_X.shape[1],)\n",
    "output_shape = train_y.shape[1]\n",
    "print(\"input:\", input_shape, \"output:\", output_shape)"
   ]
  },
  {
   "cell_type": "code",
   "execution_count": 14,
   "metadata": {
    "id": "xy7tzkwdOZx9"
   },
   "outputs": [
    {
     "name": "stderr",
     "output_type": "stream",
     "text": [
      "2023-09-03 18:23:14.927066: I tensorflow/core/common_runtime/process_util.cc:146] Creating new thread pool with default inter op setting: 2. Tune using inter_op_parallelism_threads for best performance.\n"
     ]
    },
    {
     "name": "stdout",
     "output_type": "stream",
     "text": [
      "Model: \"sequential\"\n",
      "_________________________________________________________________\n",
      " Layer (type)                Output Shape              Param #   \n",
      "=================================================================\n",
      " dense (Dense)               (None, 256)               9216      \n",
      "                                                                 \n",
      " dropout (Dropout)           (None, 256)               0         \n",
      "                                                                 \n",
      " dense_1 (Dense)             (None, 128)               32896     \n",
      "                                                                 \n",
      " dropout_1 (Dropout)         (None, 128)               0         \n",
      "                                                                 \n",
      " dense_2 (Dense)             (None, 64)                8256      \n",
      "                                                                 \n",
      " dropout_2 (Dropout)         (None, 64)                0         \n",
      "                                                                 \n",
      " dense_3 (Dense)             (None, 10)                650       \n",
      "                                                                 \n",
      "=================================================================\n",
      "Total params: 51,018\n",
      "Trainable params: 51,018\n",
      "Non-trainable params: 0\n",
      "_________________________________________________________________\n",
      "None\n"
     ]
    }
   ],
   "source": [
    "# Create the model : 3 layers Training the model DNN\n",
    "# - Sequential model\n",
    "# - Regularization\n",
    "# - softmax and Adam optimizer \n",
    "model = Sequential()\n",
    "model.add(Dense(256, input_shape=input_shape, activation=\"relu\"))\n",
    "model.add(Dropout(0.5))\n",
    "model.add(Dense(128, input_shape=input_shape, activation=\"relu\"))\n",
    "model.add(Dropout(0.5))\n",
    "model.add(Dense(64, activation=\"relu\"))\n",
    "model.add(Dropout(0.5))\n",
    "model.add(Dense(output_shape, activation = \"softmax\"))\n",
    "\n",
    "\n",
    "#sgd = SGD(lr=0.1, decay=1e-6, momentum=0.9, nesterov=True)\n",
    "\n",
    "model.compile(loss='categorical_crossentropy',\n",
    "              optimizer=\"Adam\",\n",
    "              metrics=[\"accuracy\"])\n",
    "print(model.summary())"
   ]
  },
  {
   "cell_type": "code",
   "execution_count": 15,
   "metadata": {
    "id": "r6hi4EcdOghm"
   },
   "outputs": [
    {
     "name": "stdout",
     "output_type": "stream",
     "text": [
      "Epoch 1/200\n",
      "3/3 [==============================] - 1s 12ms/step - loss: 2.3147 - accuracy: 0.1136\n",
      "Epoch 2/200\n",
      "3/3 [==============================] - 0s 5ms/step - loss: 2.2777 - accuracy: 0.0795\n",
      "Epoch 3/200\n",
      "3/3 [==============================] - 0s 5ms/step - loss: 2.2538 - accuracy: 0.1477\n",
      "Epoch 4/200\n",
      "3/3 [==============================] - 0s 8ms/step - loss: 2.1975 - accuracy: 0.2273\n",
      "Epoch 5/200\n",
      "3/3 [==============================] - 0s 9ms/step - loss: 2.1544 - accuracy: 0.3182\n",
      "Epoch 6/200\n",
      "3/3 [==============================] - 0s 7ms/step - loss: 2.1390 - accuracy: 0.2614\n",
      "Epoch 7/200\n",
      "3/3 [==============================] - 0s 10ms/step - loss: 2.1344 - accuracy: 0.2614\n",
      "Epoch 8/200\n",
      "3/3 [==============================] - 0s 7ms/step - loss: 2.0682 - accuracy: 0.3068\n",
      "Epoch 9/200\n",
      "3/3 [==============================] - 0s 9ms/step - loss: 2.0150 - accuracy: 0.3295\n",
      "Epoch 10/200\n",
      "3/3 [==============================] - 0s 6ms/step - loss: 2.0258 - accuracy: 0.3182\n",
      "Epoch 11/200\n",
      "3/3 [==============================] - 0s 6ms/step - loss: 1.9415 - accuracy: 0.4091\n",
      "Epoch 12/200\n",
      "3/3 [==============================] - 0s 6ms/step - loss: 1.9087 - accuracy: 0.3750\n",
      "Epoch 13/200\n",
      "3/3 [==============================] - 0s 4ms/step - loss: 1.8993 - accuracy: 0.3523\n",
      "Epoch 14/200\n",
      "3/3 [==============================] - 0s 6ms/step - loss: 1.8421 - accuracy: 0.3636\n",
      "Epoch 15/200\n",
      "3/3 [==============================] - 0s 8ms/step - loss: 1.7244 - accuracy: 0.4432\n",
      "Epoch 16/200\n",
      "3/3 [==============================] - 0s 7ms/step - loss: 1.6642 - accuracy: 0.4773\n",
      "Epoch 17/200\n",
      "3/3 [==============================] - 0s 5ms/step - loss: 1.6134 - accuracy: 0.5114\n",
      "Epoch 18/200\n",
      "3/3 [==============================] - 0s 6ms/step - loss: 1.5911 - accuracy: 0.4886\n",
      "Epoch 19/200\n",
      "3/3 [==============================] - 0s 6ms/step - loss: 1.5310 - accuracy: 0.5114\n",
      "Epoch 20/200\n",
      "3/3 [==============================] - 0s 7ms/step - loss: 1.4364 - accuracy: 0.5568\n",
      "Epoch 21/200\n",
      "3/3 [==============================] - 0s 8ms/step - loss: 1.3499 - accuracy: 0.6136\n",
      "Epoch 22/200\n",
      "3/3 [==============================] - 0s 9ms/step - loss: 1.2515 - accuracy: 0.5682\n",
      "Epoch 23/200\n",
      "3/3 [==============================] - 0s 10ms/step - loss: 1.2166 - accuracy: 0.6250\n",
      "Epoch 24/200\n",
      "3/3 [==============================] - 0s 11ms/step - loss: 1.1938 - accuracy: 0.6477\n",
      "Epoch 25/200\n",
      "3/3 [==============================] - 0s 9ms/step - loss: 1.1275 - accuracy: 0.6818\n",
      "Epoch 26/200\n",
      "3/3 [==============================] - 0s 7ms/step - loss: 1.1758 - accuracy: 0.6591\n",
      "Epoch 27/200\n",
      "3/3 [==============================] - 0s 6ms/step - loss: 1.0461 - accuracy: 0.6477\n",
      "Epoch 28/200\n",
      "3/3 [==============================] - 0s 10ms/step - loss: 0.9497 - accuracy: 0.6364\n",
      "Epoch 29/200\n",
      "3/3 [==============================] - 0s 6ms/step - loss: 0.9675 - accuracy: 0.7045\n",
      "Epoch 30/200\n",
      "3/3 [==============================] - 0s 9ms/step - loss: 0.8508 - accuracy: 0.7159\n",
      "Epoch 31/200\n",
      "3/3 [==============================] - 0s 7ms/step - loss: 0.8652 - accuracy: 0.7614\n",
      "Epoch 32/200\n",
      "3/3 [==============================] - 0s 4ms/step - loss: 0.8600 - accuracy: 0.7727\n",
      "Epoch 33/200\n",
      "3/3 [==============================] - 0s 4ms/step - loss: 0.8516 - accuracy: 0.7159\n",
      "Epoch 34/200\n",
      "3/3 [==============================] - 0s 6ms/step - loss: 0.7191 - accuracy: 0.7841\n",
      "Epoch 35/200\n",
      "3/3 [==============================] - 0s 7ms/step - loss: 0.7042 - accuracy: 0.7841\n",
      "Epoch 36/200\n",
      "3/3 [==============================] - 0s 51ms/step - loss: 0.7497 - accuracy: 0.7727\n",
      "Epoch 37/200\n",
      "3/3 [==============================] - 0s 7ms/step - loss: 0.7031 - accuracy: 0.7841\n",
      "Epoch 38/200\n",
      "3/3 [==============================] - 0s 3ms/step - loss: 0.6259 - accuracy: 0.8068\n",
      "Epoch 39/200\n",
      "3/3 [==============================] - 0s 12ms/step - loss: 0.6344 - accuracy: 0.8409\n",
      "Epoch 40/200\n",
      "3/3 [==============================] - 0s 5ms/step - loss: 0.6050 - accuracy: 0.8182\n",
      "Epoch 41/200\n",
      "3/3 [==============================] - 0s 4ms/step - loss: 0.5700 - accuracy: 0.8523\n",
      "Epoch 42/200\n",
      "3/3 [==============================] - 0s 6ms/step - loss: 0.5820 - accuracy: 0.8636\n",
      "Epoch 43/200\n",
      "3/3 [==============================] - 0s 6ms/step - loss: 0.5377 - accuracy: 0.8295\n",
      "Epoch 44/200\n",
      "3/3 [==============================] - 0s 6ms/step - loss: 0.5747 - accuracy: 0.8295\n",
      "Epoch 45/200\n",
      "3/3 [==============================] - 0s 7ms/step - loss: 0.4945 - accuracy: 0.8295\n",
      "Epoch 46/200\n",
      "3/3 [==============================] - 0s 6ms/step - loss: 0.5401 - accuracy: 0.8068\n",
      "Epoch 47/200\n",
      "3/3 [==============================] - 0s 6ms/step - loss: 0.4133 - accuracy: 0.8750\n",
      "Epoch 48/200\n",
      "3/3 [==============================] - 0s 6ms/step - loss: 0.4706 - accuracy: 0.8750\n",
      "Epoch 49/200\n",
      "3/3 [==============================] - 0s 7ms/step - loss: 0.5165 - accuracy: 0.8409\n",
      "Epoch 50/200\n",
      "3/3 [==============================] - 0s 6ms/step - loss: 0.4442 - accuracy: 0.8295\n",
      "Epoch 51/200\n",
      "3/3 [==============================] - 0s 17ms/step - loss: 0.3779 - accuracy: 0.8977\n",
      "Epoch 52/200\n",
      "3/3 [==============================] - 0s 9ms/step - loss: 0.4224 - accuracy: 0.8750\n",
      "Epoch 53/200\n",
      "3/3 [==============================] - 0s 9ms/step - loss: 0.3902 - accuracy: 0.8977\n",
      "Epoch 54/200\n",
      "3/3 [==============================] - 0s 6ms/step - loss: 0.3425 - accuracy: 0.8750\n",
      "Epoch 55/200\n",
      "3/3 [==============================] - 0s 3ms/step - loss: 0.4387 - accuracy: 0.8636\n",
      "Epoch 56/200\n",
      "3/3 [==============================] - 0s 6ms/step - loss: 0.4218 - accuracy: 0.8636\n",
      "Epoch 57/200\n",
      "3/3 [==============================] - 0s 3ms/step - loss: 0.3974 - accuracy: 0.8864\n",
      "Epoch 58/200\n",
      "3/3 [==============================] - 0s 7ms/step - loss: 0.3813 - accuracy: 0.8864\n",
      "Epoch 59/200\n",
      "3/3 [==============================] - 0s 3ms/step - loss: 0.3907 - accuracy: 0.8977\n",
      "Epoch 60/200\n",
      "3/3 [==============================] - 0s 7ms/step - loss: 0.3264 - accuracy: 0.8750\n",
      "Epoch 61/200\n",
      "3/3 [==============================] - 0s 4ms/step - loss: 0.3619 - accuracy: 0.8750\n",
      "Epoch 62/200\n",
      "3/3 [==============================] - 0s 7ms/step - loss: 0.3223 - accuracy: 0.8864\n",
      "Epoch 63/200\n",
      "3/3 [==============================] - 0s 5ms/step - loss: 0.3085 - accuracy: 0.9205\n",
      "Epoch 64/200\n",
      "3/3 [==============================] - 0s 5ms/step - loss: 0.3560 - accuracy: 0.8977\n",
      "Epoch 65/200\n",
      "3/3 [==============================] - 0s 5ms/step - loss: 0.3009 - accuracy: 0.9205\n",
      "Epoch 66/200\n",
      "3/3 [==============================] - 0s 4ms/step - loss: 0.2905 - accuracy: 0.8977\n",
      "Epoch 67/200\n",
      "3/3 [==============================] - 0s 6ms/step - loss: 0.3043 - accuracy: 0.9205\n",
      "Epoch 68/200\n",
      "3/3 [==============================] - 0s 6ms/step - loss: 0.2831 - accuracy: 0.9205\n",
      "Epoch 69/200\n",
      "3/3 [==============================] - 0s 6ms/step - loss: 0.2624 - accuracy: 0.9432\n",
      "Epoch 70/200\n",
      "3/3 [==============================] - 0s 6ms/step - loss: 0.2776 - accuracy: 0.8977\n",
      "Epoch 71/200\n",
      "3/3 [==============================] - 0s 5ms/step - loss: 0.3166 - accuracy: 0.8864\n",
      "Epoch 72/200\n",
      "3/3 [==============================] - 0s 4ms/step - loss: 0.2479 - accuracy: 0.9318\n",
      "Epoch 73/200\n",
      "3/3 [==============================] - 0s 4ms/step - loss: 0.2801 - accuracy: 0.8977\n",
      "Epoch 74/200\n",
      "3/3 [==============================] - 0s 6ms/step - loss: 0.2789 - accuracy: 0.9205\n",
      "Epoch 75/200\n",
      "3/3 [==============================] - 0s 6ms/step - loss: 0.2654 - accuracy: 0.9091\n",
      "Epoch 76/200\n",
      "3/3 [==============================] - 0s 5ms/step - loss: 0.2769 - accuracy: 0.9318\n",
      "Epoch 77/200\n",
      "3/3 [==============================] - 0s 6ms/step - loss: 0.2718 - accuracy: 0.9318\n",
      "Epoch 78/200\n",
      "3/3 [==============================] - 0s 6ms/step - loss: 0.2442 - accuracy: 0.9318\n",
      "Epoch 79/200\n",
      "3/3 [==============================] - 0s 8ms/step - loss: 0.2143 - accuracy: 0.9432\n",
      "Epoch 80/200\n",
      "3/3 [==============================] - 0s 4ms/step - loss: 0.2272 - accuracy: 0.9432\n",
      "Epoch 81/200\n",
      "3/3 [==============================] - 0s 6ms/step - loss: 0.2223 - accuracy: 0.9205\n",
      "Epoch 82/200\n",
      "3/3 [==============================] - 0s 6ms/step - loss: 0.2294 - accuracy: 0.9545\n",
      "Epoch 83/200\n",
      "3/3 [==============================] - 0s 6ms/step - loss: 0.1867 - accuracy: 0.9545\n",
      "Epoch 84/200\n",
      "3/3 [==============================] - 0s 6ms/step - loss: 0.1898 - accuracy: 0.9659\n",
      "Epoch 85/200\n",
      "3/3 [==============================] - 0s 4ms/step - loss: 0.2566 - accuracy: 0.9205\n",
      "Epoch 86/200\n",
      "3/3 [==============================] - 0s 7ms/step - loss: 0.1857 - accuracy: 0.9432\n",
      "Epoch 87/200\n",
      "3/3 [==============================] - 0s 7ms/step - loss: 0.2009 - accuracy: 0.9545\n",
      "Epoch 88/200\n",
      "3/3 [==============================] - 0s 7ms/step - loss: 0.1550 - accuracy: 0.9659\n",
      "Epoch 89/200\n",
      "3/3 [==============================] - 0s 6ms/step - loss: 0.1852 - accuracy: 0.9318\n",
      "Epoch 90/200\n",
      "3/3 [==============================] - 0s 7ms/step - loss: 0.1490 - accuracy: 0.9886\n",
      "Epoch 91/200\n",
      "3/3 [==============================] - 0s 7ms/step - loss: 0.1486 - accuracy: 0.9545\n",
      "Epoch 92/200\n",
      "3/3 [==============================] - 0s 7ms/step - loss: 0.1609 - accuracy: 0.9318\n",
      "Epoch 93/200\n",
      "3/3 [==============================] - 0s 6ms/step - loss: 0.1801 - accuracy: 0.9432\n",
      "Epoch 94/200\n",
      "3/3 [==============================] - 0s 5ms/step - loss: 0.1857 - accuracy: 0.9432\n",
      "Epoch 95/200\n",
      "3/3 [==============================] - 0s 6ms/step - loss: 0.1627 - accuracy: 0.9545\n",
      "Epoch 96/200\n",
      "3/3 [==============================] - 0s 6ms/step - loss: 0.1739 - accuracy: 0.9205\n",
      "Epoch 97/200\n",
      "3/3 [==============================] - 0s 6ms/step - loss: 0.1611 - accuracy: 0.9659\n",
      "Epoch 98/200\n",
      "3/3 [==============================] - 0s 6ms/step - loss: 0.1417 - accuracy: 0.9886\n",
      "Epoch 99/200\n",
      "3/3 [==============================] - 0s 6ms/step - loss: 0.1292 - accuracy: 0.9659\n",
      "Epoch 100/200\n",
      "3/3 [==============================] - 0s 5ms/step - loss: 0.1363 - accuracy: 0.9659\n",
      "Epoch 101/200\n",
      "3/3 [==============================] - 0s 7ms/step - loss: 0.1380 - accuracy: 0.9659\n",
      "Epoch 102/200\n",
      "3/3 [==============================] - 0s 6ms/step - loss: 0.1555 - accuracy: 0.9432\n",
      "Epoch 103/200\n",
      "3/3 [==============================] - 0s 6ms/step - loss: 0.1319 - accuracy: 0.9659\n",
      "Epoch 104/200\n",
      "3/3 [==============================] - 0s 4ms/step - loss: 0.1674 - accuracy: 0.9432\n",
      "Epoch 105/200\n",
      "3/3 [==============================] - 0s 5ms/step - loss: 0.1546 - accuracy: 0.9545\n",
      "Epoch 106/200\n",
      "3/3 [==============================] - 0s 10ms/step - loss: 0.1836 - accuracy: 0.9432\n",
      "Epoch 107/200\n",
      "3/3 [==============================] - 0s 7ms/step - loss: 0.1339 - accuracy: 0.9773\n",
      "Epoch 108/200\n",
      "3/3 [==============================] - 0s 8ms/step - loss: 0.1739 - accuracy: 0.9432\n",
      "Epoch 109/200\n",
      "3/3 [==============================] - 0s 6ms/step - loss: 0.1425 - accuracy: 0.9545\n",
      "Epoch 110/200\n",
      "3/3 [==============================] - 0s 7ms/step - loss: 0.1924 - accuracy: 0.9432\n",
      "Epoch 111/200\n",
      "3/3 [==============================] - 0s 9ms/step - loss: 0.1366 - accuracy: 0.9432\n",
      "Epoch 112/200\n",
      "3/3 [==============================] - 0s 12ms/step - loss: 0.1815 - accuracy: 0.9318\n",
      "Epoch 113/200\n",
      "3/3 [==============================] - 0s 6ms/step - loss: 0.1377 - accuracy: 0.9545\n",
      "Epoch 114/200\n",
      "3/3 [==============================] - 0s 6ms/step - loss: 0.1413 - accuracy: 0.9659\n",
      "Epoch 115/200\n",
      "3/3 [==============================] - 0s 9ms/step - loss: 0.1193 - accuracy: 0.9659\n",
      "Epoch 116/200\n",
      "3/3 [==============================] - 0s 8ms/step - loss: 0.1417 - accuracy: 0.9659\n",
      "Epoch 117/200\n",
      "3/3 [==============================] - 0s 7ms/step - loss: 0.1267 - accuracy: 0.9545\n",
      "Epoch 118/200\n",
      "3/3 [==============================] - 0s 7ms/step - loss: 0.1174 - accuracy: 0.9659\n",
      "Epoch 119/200\n",
      "3/3 [==============================] - 0s 4ms/step - loss: 0.1160 - accuracy: 0.9659\n",
      "Epoch 120/200\n",
      "3/3 [==============================] - 0s 6ms/step - loss: 0.1288 - accuracy: 0.9545\n",
      "Epoch 121/200\n",
      "3/3 [==============================] - 0s 5ms/step - loss: 0.1175 - accuracy: 0.9545\n",
      "Epoch 122/200\n",
      "3/3 [==============================] - 0s 6ms/step - loss: 0.1543 - accuracy: 0.9432\n",
      "Epoch 123/200\n",
      "3/3 [==============================] - 0s 6ms/step - loss: 0.0845 - accuracy: 0.9773\n",
      "Epoch 124/200\n",
      "3/3 [==============================] - 0s 5ms/step - loss: 0.1008 - accuracy: 0.9545\n",
      "Epoch 125/200\n",
      "3/3 [==============================] - 0s 8ms/step - loss: 0.1229 - accuracy: 0.9659\n",
      "Epoch 126/200\n",
      "3/3 [==============================] - 0s 7ms/step - loss: 0.0979 - accuracy: 0.9545\n",
      "Epoch 127/200\n",
      "3/3 [==============================] - 0s 20ms/step - loss: 0.1800 - accuracy: 0.9205\n",
      "Epoch 128/200\n",
      "3/3 [==============================] - 0s 5ms/step - loss: 0.1097 - accuracy: 0.9659\n",
      "Epoch 129/200\n",
      "3/3 [==============================] - 0s 25ms/step - loss: 0.1149 - accuracy: 0.9659\n",
      "Epoch 130/200\n",
      "3/3 [==============================] - 0s 3ms/step - loss: 0.1262 - accuracy: 0.9318\n",
      "Epoch 131/200\n",
      "3/3 [==============================] - 0s 7ms/step - loss: 0.0930 - accuracy: 0.9886\n",
      "Epoch 132/200\n",
      "3/3 [==============================] - 0s 7ms/step - loss: 0.1085 - accuracy: 0.9659\n",
      "Epoch 133/200\n",
      "3/3 [==============================] - 0s 6ms/step - loss: 0.1054 - accuracy: 0.9659\n",
      "Epoch 134/200\n",
      "3/3 [==============================] - 0s 9ms/step - loss: 0.0762 - accuracy: 0.9886\n",
      "Epoch 135/200\n",
      "3/3 [==============================] - 0s 4ms/step - loss: 0.1206 - accuracy: 0.9545\n",
      "Epoch 136/200\n",
      "3/3 [==============================] - 0s 6ms/step - loss: 0.0726 - accuracy: 0.9659\n",
      "Epoch 137/200\n",
      "3/3 [==============================] - 0s 7ms/step - loss: 0.1183 - accuracy: 0.9432\n",
      "Epoch 138/200\n",
      "3/3 [==============================] - 0s 7ms/step - loss: 0.0850 - accuracy: 0.9545\n",
      "Epoch 139/200\n",
      "3/3 [==============================] - 0s 6ms/step - loss: 0.0571 - accuracy: 0.9886\n",
      "Epoch 140/200\n",
      "3/3 [==============================] - 0s 4ms/step - loss: 0.0857 - accuracy: 0.9773\n",
      "Epoch 141/200\n",
      "3/3 [==============================] - 0s 5ms/step - loss: 0.1150 - accuracy: 0.9432\n",
      "Epoch 142/200\n",
      "3/3 [==============================] - 0s 5ms/step - loss: 0.1254 - accuracy: 0.9659\n",
      "Epoch 143/200\n",
      "3/3 [==============================] - 0s 5ms/step - loss: 0.1156 - accuracy: 0.9545\n",
      "Epoch 144/200\n",
      "3/3 [==============================] - 0s 4ms/step - loss: 0.0849 - accuracy: 0.9773\n",
      "Epoch 145/200\n",
      "3/3 [==============================] - 0s 4ms/step - loss: 0.0845 - accuracy: 0.9773\n",
      "Epoch 146/200\n",
      "3/3 [==============================] - 0s 4ms/step - loss: 0.1171 - accuracy: 0.9432\n",
      "Epoch 147/200\n",
      "3/3 [==============================] - 0s 6ms/step - loss: 0.1073 - accuracy: 0.9545\n",
      "Epoch 148/200\n",
      "3/3 [==============================] - 0s 5ms/step - loss: 0.1224 - accuracy: 0.9432\n",
      "Epoch 149/200\n",
      "3/3 [==============================] - 0s 7ms/step - loss: 0.0816 - accuracy: 0.9886\n",
      "Epoch 150/200\n",
      "3/3 [==============================] - 0s 8ms/step - loss: 0.1279 - accuracy: 0.9545\n",
      "Epoch 151/200\n",
      "3/3 [==============================] - 0s 4ms/step - loss: 0.1484 - accuracy: 0.9432\n",
      "Epoch 152/200\n",
      "3/3 [==============================] - 0s 13ms/step - loss: 0.1233 - accuracy: 0.9545\n",
      "Epoch 153/200\n",
      "3/3 [==============================] - 0s 7ms/step - loss: 0.0757 - accuracy: 0.9886\n",
      "Epoch 154/200\n",
      "3/3 [==============================] - 0s 6ms/step - loss: 0.1171 - accuracy: 0.9545\n",
      "Epoch 155/200\n",
      "3/3 [==============================] - 0s 10ms/step - loss: 0.0845 - accuracy: 0.9773\n",
      "Epoch 156/200\n",
      "3/3 [==============================] - 0s 6ms/step - loss: 0.0833 - accuracy: 0.9773\n",
      "Epoch 157/200\n",
      "3/3 [==============================] - 0s 7ms/step - loss: 0.0948 - accuracy: 0.9545\n",
      "Epoch 158/200\n",
      "3/3 [==============================] - 0s 4ms/step - loss: 0.1305 - accuracy: 0.9545\n",
      "Epoch 159/200\n",
      "3/3 [==============================] - 0s 7ms/step - loss: 0.0836 - accuracy: 0.9886\n",
      "Epoch 160/200\n",
      "3/3 [==============================] - 0s 5ms/step - loss: 0.0836 - accuracy: 0.9773\n",
      "Epoch 161/200\n",
      "3/3 [==============================] - 0s 7ms/step - loss: 0.1486 - accuracy: 0.9545\n",
      "Epoch 162/200\n",
      "3/3 [==============================] - 0s 6ms/step - loss: 0.1020 - accuracy: 0.9432\n",
      "Epoch 163/200\n",
      "3/3 [==============================] - 0s 6ms/step - loss: 0.0769 - accuracy: 0.9659\n",
      "Epoch 164/200\n",
      "3/3 [==============================] - 0s 7ms/step - loss: 0.0868 - accuracy: 0.9659\n",
      "Epoch 165/200\n",
      "3/3 [==============================] - 0s 6ms/step - loss: 0.0996 - accuracy: 0.9773\n",
      "Epoch 166/200\n",
      "3/3 [==============================] - 0s 6ms/step - loss: 0.0775 - accuracy: 0.9659\n",
      "Epoch 167/200\n",
      "3/3 [==============================] - 0s 12ms/step - loss: 0.0714 - accuracy: 0.9773\n",
      "Epoch 168/200\n",
      "3/3 [==============================] - 0s 7ms/step - loss: 0.0686 - accuracy: 0.9773\n",
      "Epoch 169/200\n",
      "3/3 [==============================] - 0s 6ms/step - loss: 0.0762 - accuracy: 0.9659\n",
      "Epoch 170/200\n",
      "3/3 [==============================] - 0s 6ms/step - loss: 0.0658 - accuracy: 1.0000\n",
      "Epoch 171/200\n",
      "3/3 [==============================] - 0s 17ms/step - loss: 0.1039 - accuracy: 0.9432\n",
      "Epoch 172/200\n",
      "3/3 [==============================] - 0s 7ms/step - loss: 0.0667 - accuracy: 0.9773\n",
      "Epoch 173/200\n",
      "3/3 [==============================] - 0s 17ms/step - loss: 0.0823 - accuracy: 0.9659\n",
      "Epoch 174/200\n",
      "3/3 [==============================] - 0s 11ms/step - loss: 0.0832 - accuracy: 0.9545\n",
      "Epoch 175/200\n",
      "3/3 [==============================] - 0s 4ms/step - loss: 0.0527 - accuracy: 0.9886\n",
      "Epoch 176/200\n",
      "3/3 [==============================] - 0s 4ms/step - loss: 0.0492 - accuracy: 0.9886\n",
      "Epoch 177/200\n",
      "3/3 [==============================] - 0s 10ms/step - loss: 0.1174 - accuracy: 0.9659\n",
      "Epoch 178/200\n",
      "3/3 [==============================] - 0s 6ms/step - loss: 0.0895 - accuracy: 0.9659\n",
      "Epoch 179/200\n",
      "3/3 [==============================] - 0s 7ms/step - loss: 0.0804 - accuracy: 0.9545\n",
      "Epoch 180/200\n",
      "3/3 [==============================] - 0s 4ms/step - loss: 0.0877 - accuracy: 0.9545\n",
      "Epoch 181/200\n",
      "3/3 [==============================] - 0s 7ms/step - loss: 0.0434 - accuracy: 0.9886\n",
      "Epoch 182/200\n",
      "3/3 [==============================] - 0s 5ms/step - loss: 0.0625 - accuracy: 0.9773\n",
      "Epoch 183/200\n",
      "3/3 [==============================] - 0s 8ms/step - loss: 0.0527 - accuracy: 0.9773\n",
      "Epoch 184/200\n",
      "3/3 [==============================] - 0s 6ms/step - loss: 0.0497 - accuracy: 0.9886\n",
      "Epoch 185/200\n",
      "3/3 [==============================] - 0s 5ms/step - loss: 0.0972 - accuracy: 0.9659\n",
      "Epoch 186/200\n",
      "3/3 [==============================] - 0s 9ms/step - loss: 0.0492 - accuracy: 0.9659\n",
      "Epoch 187/200\n",
      "3/3 [==============================] - 0s 5ms/step - loss: 0.1087 - accuracy: 0.9545\n",
      "Epoch 188/200\n",
      "3/3 [==============================] - 0s 6ms/step - loss: 0.0722 - accuracy: 0.9659\n",
      "Epoch 189/200\n",
      "3/3 [==============================] - 0s 6ms/step - loss: 0.0542 - accuracy: 0.9886\n",
      "Epoch 190/200\n",
      "3/3 [==============================] - 0s 5ms/step - loss: 0.1113 - accuracy: 0.9432\n",
      "Epoch 191/200\n",
      "3/3 [==============================] - 0s 9ms/step - loss: 0.0840 - accuracy: 0.9659\n",
      "Epoch 192/200\n",
      "3/3 [==============================] - 0s 5ms/step - loss: 0.0775 - accuracy: 0.9659\n",
      "Epoch 193/200\n",
      "3/3 [==============================] - 0s 6ms/step - loss: 0.0713 - accuracy: 0.9886\n",
      "Epoch 194/200\n",
      "3/3 [==============================] - 0s 7ms/step - loss: 0.0875 - accuracy: 0.9773\n",
      "Epoch 195/200\n",
      "3/3 [==============================] - 0s 41ms/step - loss: 0.0546 - accuracy: 0.9773\n",
      "Epoch 196/200\n",
      "3/3 [==============================] - 0s 20ms/step - loss: 0.1080 - accuracy: 0.9432\n",
      "Epoch 197/200\n",
      "3/3 [==============================] - 0s 23ms/step - loss: 0.0564 - accuracy: 0.9886\n",
      "Epoch 198/200\n",
      "3/3 [==============================] - 0s 29ms/step - loss: 0.0580 - accuracy: 0.9659\n",
      "Epoch 199/200\n",
      "3/3 [==============================] - 0s 35ms/step - loss: 0.0377 - accuracy: 0.9886\n",
      "Epoch 200/200\n",
      "3/3 [==============================] - 0s 17ms/step - loss: 0.0666 - accuracy: 0.9659\n"
     ]
    }
   ],
   "source": [
    "with tf.device(device_spec):\n",
    "    hist = model.fit(x=train_X, y=train_y, epochs=200)"
   ]
  },
  {
   "cell_type": "code",
   "execution_count": 16,
   "metadata": {
    "id": "Pb1GZDjGRP6Q"
   },
   "outputs": [
    {
     "data": {
      "image/png": "[encoded data removed]",
      "text/plain": [
       "<Figure size 640x480 with 1 Axes>"
      ]
     },
     "metadata": {},
     "output_type": "display_data"
    }
   ],
   "source": [
    "import matplotlib.pyplot as plt\n",
    "import seaborn as sns\n",
    "\n",
    "# Training\n",
    "epoch_count = range(1, len(hist.history['accuracy']) + 1)\n",
    "sns.lineplot(x=epoch_count,  y=hist.history['accuracy'], label='train')\n",
    "plt.show()"
   ]
  },
  {
   "cell_type": "code",
   "execution_count": 17,
   "metadata": {
    "id": "eTVDnrV0mDRf"
   },
   "outputs": [],
   "source": [
    "# Save the model for production\n",
    "import pickle\n",
    "pickle.dump(words, open('words.pkl','wb'))\n",
    "pickle.dump(classes, open('classes.pkl','wb'))\n",
    "model.save('chatbot_model.h5')"
   ]
  },
  {
   "attachments": {},
   "cell_type": "markdown",
   "metadata": {
    "id": "TnD1WvhBfVYR"
   },
   "source": [
    "### 5 - Testing and validation"
   ]
  },
  {
   "cell_type": "code",
   "execution_count": 18,
   "metadata": {
    "id": "kqBdSGt8Orkm"
   },
   "outputs": [],
   "source": [
    "# Convert input text to tokens\n",
    "def text_to_tokens(text):\n",
    "    lemma_tokens = []\n",
    "    tokens = nlp(preprocess_clean_text(text.lower()))\n",
    "    for token in tokens:\n",
    "        lemma_tokens.append(token.lemma_)\n",
    "\n",
    "    return lemma_tokens\n",
    "\n",
    "# Transform the tokenized input text to OHE representation\n",
    "\n",
    "\n",
    "def bag_of_words(text, vocab):\n",
    "    tokens = text_to_tokens(text)\n",
    "    bow = [0] * len(vocab)\n",
    "    for w in tokens:\n",
    "        for idx, word in enumerate(vocab):\n",
    "            if word == w:\n",
    "                bow[idx] = 1\n",
    "\n",
    "    return np.array(bow)\n",
    "\n",
    "# Using the model with the OHE input the labels\n",
    "\n",
    "\n",
    "def pred_class(text, vocab, labels):\n",
    "    bow = bag_of_words(text, vocab)\n",
    "    words_recognized = sum(bow)\n",
    "\n",
    "    return_list = []\n",
    "    if words_recognized > 0:\n",
    "        result = model.predict(np.array([bow]))[0]\n",
    "        thresh = 0.2\n",
    "        # Filter inputs lower than the threshold\n",
    "        y_pred = [[idx, res] for idx, res in enumerate(result) if res > thresh]\n",
    "        # Sort keys according to the softmax\n",
    "        y_pred.sort(key=lambda x: x[1], reverse=True)\n",
    "\n",
    "        # return_list es una lista de los labels de mayor a menor\n",
    "        for r in y_pred:\n",
    "            return_list.append(labels[r[0]])\n",
    "\n",
    "    return return_list\n",
    "\n",
    "# Getting a default anwser\n",
    "\n",
    "\n",
    "def get_response(intents_list, intents_json):\n",
    "    tag = intents_list[0]\n",
    "    list_of_intents = intents_json[\"intents\"]\n",
    "    for i in list_of_intents:\n",
    "        if i[\"tag\"] == tag:\n",
    "            result = random.choice(i[\"responses\"])\n",
    "            break\n",
    "    return result"
   ]
  },
  {
   "cell_type": "code",
   "execution_count": 19,
   "metadata": {
    "id": "Xp1vXQwdOvl7"
   },
   "outputs": [
    {
     "name": "stdout",
     "output_type": "stream",
     "text": [
      "Question: Hola\n",
      "1/1 [==============================] - 0s 67ms/step\n",
      "SiloBOT: Hola, ¿como puedo ayudarte?\n",
      "Question: Como te llamas\n",
      "1/1 [==============================] - 0s 15ms/step\n",
      "SiloBOT: Mi nombre es SiloBot, un bot asistido por AI\n",
      "Question: Servicios\n",
      "1/1 [==============================] - 0s 16ms/step\n",
      "SiloBOT: La compañía ofrece los siguientes servicios: SiloView, SiloToken, SiloMetrix, información adicional la puedes encontrar en en el siguiente link\n",
      "Question: Precios\n",
      "1/1 [==============================] - 0s 15ms/step\n",
      "SiloBOT: Te contactaré con un asesor de ventas quien podrá brindarte mayor información\n",
      "Question: Ubicación\n",
      "1/1 [==============================] - 0s 16ms/step\n",
      "SiloBOT: Te esperamos en la siguiente dirección\n",
      "Question: Dirección empresa\n",
      "1/1 [==============================] - 0s 16ms/step\n",
      "SiloBOT: Te esperamos en la siguiente dirección\n"
     ]
    }
   ],
   "source": [
    "while True:\n",
    "    # Ask to the user for the input question\n",
    "    message = input(\"\")\n",
    "    print(\"Question:\", message)\n",
    "\n",
    "    intents = pred_class(message, words, classes)\n",
    "    if len(intents) > 0:\n",
    "        result = get_response(intents, dataset)\n",
    "        print(\"SiloBOT:\", result)\n",
    "    else: # si no hubo ningún resultado que supere el umbral\n",
    "        print(\"SiloBOT: Perdón, no entiendo tú pregunta.\")\n",
    "    "
   ]
  }
 ],
 "metadata": {
  "colab": {
   "authorship_tag": "ABX9TyPZeXqdm2EV/WEA+xr24OAL",
   "collapsed_sections": [],
   "name": "2b - bot_dnn_spacy_esp.ipynb",
   "provenance": []
  },
  "kernelspec": {
   "display_name": "Python 3 (ipykernel)",
   "language": "python",
   "name": "python3"
  },
  "language_info": {
   "codemirror_mode": {
    "name": "ipython",
    "version": 3
   },
   "file_extension": ".py",
   "mimetype": "text/x-python",
   "name": "python",
   "nbconvert_exporter": "python",
   "pygments_lexer": "ipython3",
   "version": "3.9.17"
  }
 },
 "nbformat": 4,
 "nbformat_minor": 4
}
