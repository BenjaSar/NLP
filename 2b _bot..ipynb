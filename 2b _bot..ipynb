{
 "cells": [
  {
   "attachments": {},
   "cell_type": "markdown",
   "metadata": {
    "id": "NV8wZ0MTKjv_"
   },
   "source": [
    "<img src=\"https://github.com/hernancontigiani/ceia_memorias_especializacion/raw/master/Figures/logoFIUBA.jpg\" width=\"500\" align=\"center\">\n",
    "\n",
    "\n",
    "# Natural Language Processing\n",
    "## Chatbot with deep leargning - Default query and answers "
   ]
  },
  {
   "attachments": {},
   "cell_type": "markdown",
   "metadata": {
    "id": "Z_9z3H-yKrcK"
   },
   "source": [
    "Based on:\n",
    "[LINK](https://towardsdatascience.com/a-simple-chatbot-in-python-with-deep-learning-3e8669997758)"
   ]
  },
  {
   "attachments": {},
   "cell_type": "markdown",
   "metadata": {
    "id": "oCVZakCzAjGN"
   },
   "source": [
    "### 1 - Dependencies installation"
   ]
  },
  {
   "cell_type": "code",
   "execution_count": 2,
   "metadata": {
    "id": "Zd8NLa4gsSmT"
   },
   "outputs": [],
   "source": [
    "# Install libraries\n",
    "!pip install -U spacy==3.1 --quiet\n",
    "!pip install -U spacy-stanza==1.0.0 --quiet"
   ]
  },
  {
   "cell_type": "code",
   "execution_count": 3,
   "metadata": {
    "id": "kzao7XO9NJAq"
   },
   "outputs": [
    {
     "name": "stderr",
     "output_type": "stream",
     "text": [
      "/home/benja/anaconda3/envs/nlp/lib/python3.9/site-packages/tqdm/auto.py:21: TqdmWarning: IProgress not found. Please update jupyter and ipywidgets. See https://ipywidgets.readthedocs.io/en/stable/user_install.html\n",
      "  from .autonotebook import tqdm as notebook_tqdm\n",
      "2023-09-03 17:32:26.227673: I tensorflow/core/platform/cpu_feature_guard.cc:182] This TensorFlow binary is optimized to use available CPU instructions in performance-critical operations.\n",
      "To enable the following instructions: SSE4.1 SSE4.2 AVX AVX2 FMA, in other operations, rebuild TensorFlow with the appropriate compiler flags.\n"
     ]
    }
   ],
   "source": [
    "# Import libraries\n",
    "import json\n",
    "import string\n",
    "import random\n",
    "import numpy as np\n",
    "import spacy\n",
    "import stanza\n",
    "import spacy_stanza\n",
    "import tensorflow as tf\n",
    "from tensorflow.keras import Sequential\n",
    "from tensorflow.keras.layers import Dense, Dropout"
   ]
  },
  {
   "cell_type": "code",
   "execution_count": 4,
   "metadata": {
    "id": "Z_ExOb8uvjqK"
   },
   "outputs": [
    {
     "name": "stderr",
     "output_type": "stream",
     "text": [
      "Downloading https://raw.githubusercontent.com/stanfordnlp/stanza-resources/main/resources_1.5.0.json: 216kB [00:00, 60.6MB/s]                    \n",
      "2023-09-03 17:32:33 INFO: Downloading default packages for language: es (Spanish) ...\n",
      "2023-09-03 17:32:36 INFO: File exists: /home/benja/stanza_resources/es/default.zip\n",
      "2023-09-03 17:32:43 INFO: Finished downloading models and saved to /home/benja/stanza_resources.\n",
      "2023-09-03 17:32:43 INFO: Checking for updates to resources.json in case models have been updated.  Note: this behavior can be turned off with download_method=None or download_method=DownloadMethod.REUSE_RESOURCES\n",
      "Downloading https://raw.githubusercontent.com/stanfordnlp/stanza-resources/main/resources_1.5.0.json: 216kB [00:00, 62.4MB/s]                    \n",
      "2023-09-03 17:32:44 INFO: Loading these models for language: es (Spanish):\n",
      "===========================\n",
      "| Processor    | Package  |\n",
      "---------------------------\n",
      "| tokenize     | ancora   |\n",
      "| mwt          | ancora   |\n",
      "| pos          | ancora   |\n",
      "| lemma        | ancora   |\n",
      "| constituency | combined |\n",
      "| depparse     | ancora   |\n",
      "| sentiment    | tass2020 |\n",
      "| ner          | conll02  |\n",
      "===========================\n",
      "\n",
      "2023-09-03 17:32:44 WARNING: GPU requested, but is not available!\n",
      "2023-09-03 17:32:44 INFO: Using device: cpu\n",
      "2023-09-03 17:32:44 INFO: Loading: tokenize\n",
      "2023-09-03 17:32:44 INFO: Loading: mwt\n",
      "2023-09-03 17:32:44 INFO: Loading: pos\n",
      "2023-09-03 17:32:44 INFO: Loading: lemma\n",
      "2023-09-03 17:32:44 INFO: Loading: constituency\n",
      "2023-09-03 17:32:45 INFO: Loading: depparse\n",
      "2023-09-03 17:32:45 INFO: Loading: sentiment\n",
      "2023-09-03 17:32:45 INFO: Loading: ner\n",
      "2023-09-03 17:32:45 INFO: Done loading processors!\n"
     ]
    }
   ],
   "source": [
    "# Download the dictionary in spanish\n",
    "stanza.download(\"es\")\n",
    "nlp = spacy_stanza.load_pipeline(\"es\")"
   ]
  },
  {
   "cell_type": "code",
   "execution_count": 5,
   "metadata": {},
   "outputs": [
    {
     "name": "stdout",
     "output_type": "stream",
     "text": [
      "Device Spec:  /job:localhost/replica:0/device:GPU:*\n"
     ]
    }
   ],
   "source": [
    "# Initializing Device Specification\n",
    "device_spec = tf.DeviceSpec(job =\"localhost\", replica = 0, device_type = \"GPU\")\n",
    " \n",
    "# Printing the DeviceSpec\n",
    "print('Device Spec: ', device_spec.to_string())"
   ]
  },
  {
   "attachments": {},
   "cell_type": "markdown",
   "metadata": {
    "id": "_wF10RjVMBdV"
   },
   "source": [
    "### 2 - Data processing tools"
   ]
  },
  {
   "cell_type": "code",
   "execution_count": 6,
   "metadata": {
    "id": "ZxoD2hEExmuX"
   },
   "outputs": [],
   "source": [
    "import re\n",
    "import unicodedata\n",
    "\n",
    "def preprocess_clean_text(text):    \n",
    "    text = unicodedata.normalize('NFKD', text).encode('ascii', 'ignore').decode('utf-8', 'ignore')\n",
    "    # Delete special characters\n",
    "    pattern = r'[^a-zA-z0-9.,!?/:;\\\"\\'\\s]' # [^ : None of this letters and symbols \n",
    "    text = re.sub(pattern, '', text)\n",
    "    pattern = r'[^a-zA-z.,!?/:;\\\"\\'\\s]' # igual al anterior pero sin cifras numéricas\n",
    "    # Delete numbers\n",
    "    text = re.sub(pattern, '', text)\n",
    "\n",
    "    # Delete puntuaction characters\n",
    "    text = ''.join([c for c in text if c not in string.punctuation])\n",
    "    \n",
    "    return text"
   ]
  },
  {
   "cell_type": "code",
   "execution_count": 7,
   "metadata": {
    "id": "q-MiMZjh5fu2"
   },
   "outputs": [
    {
     "data": {
      "text/plain": [
       "'asia africa europa lationamerica'"
      ]
     },
     "execution_count": 7,
     "metadata": {},
     "output_type": "execute_result"
    }
   ],
   "source": [
    "text = \"Asia!! Africa! EUROPA?! LATIONAMERICA\"\n",
    "\n",
    "# Before preprocessing convert to lowercase\n",
    "preprocess_clean_text(text.lower())"
   ]
  },
  {
   "cell_type": "code",
   "execution_count": 8,
   "metadata": {
    "id": "I9V-S8JbrtNn"
   },
   "outputs": [
    {
     "name": "stdout",
     "output_type": "stream",
     "text": [
      "tokens: asia africa europa lationamerica\n",
      "Lemmatizattion for every token:\n",
      "[asia, 'asia']\n",
      "[africa, 'africo']\n",
      "[europa, 'europo']\n",
      "[lationamerica, 'lationamerica']\n"
     ]
    }
   ],
   "source": [
    "text = \"Asia!! Africa! EUROPA?! LATIONAMERICA\"\n",
    "\n",
    "# Before of the preprocessing the data are convert to lower case\n",
    "tokens = nlp(preprocess_clean_text(text.lower()))\n",
    "print(\"tokens:\", tokens)\n",
    "print(\"Lemmatizattion for every token:\")\n",
    "for token in tokens:\n",
    "    print([token, token.lemma_])"
   ]
  },
  {
   "attachments": {},
   "cell_type": "markdown",
   "metadata": {
    "id": "19PEDmIDfLRu"
   },
   "source": [
    "### 3 - Preprocessing and dataset construction"
   ]
  },
  {
   "cell_type": "code",
   "execution_count": 11,
   "metadata": {
    "id": "b3HP8abHNRk3"
   },
   "outputs": [],
   "source": [
    "\n",
    "#pre_nlp = spacy.load(\"es_core_news_sm\")\n",
    "# Word o vocabulary that will be necessary\n",
    "words = []\n",
    "classes = []\n",
    "doc_X = []\n",
    "doc_y = []\n",
    "\n",
    "data=open('./data/data.json').read()\n",
    "dataset=json.loads(data)\n",
    "#Create a set of stop words\n",
    "stop_words = spacy.lang.es.stop_words.STOP_WORDS\n",
    "\n",
    "for intent in dataset[\"intents\"]:\n",
    "    for pattern in intent[\"patterns\"]:\n",
    "        # Transform the pattern in token\n",
    "        tokens = nlp(preprocess_clean_text(pattern.lower()))\n",
    "        # Lemmatizate the patterns in tokens\n",
    "        for token in tokens:            \n",
    "            if not token.is_stop:\n",
    "                words.append(token.lemma_)    \n",
    "        \n",
    "            doc_X.append(pattern)\n",
    "            doc_y.append(intent[\"tag\"])\n",
    "    \n",
    "    # Add the tag to the class\n",
    "    if intent[\"tag\"] not in classes:\n",
    "        classes.append(intent[\"tag\"])\n",
    "\n",
    "# Delete the duplicate values with set and sort the vocabulary and the classes \n",
    "#in alphabetical order\n",
    "words = sorted(set(words))\n",
    "classes = sorted(set(classes))"
   ]
  },
  {
   "cell_type": "code",
   "execution_count": 12,
   "metadata": {
    "id": "Acy-gcugNbMH"
   },
   "outputs": [
    {
     "name": "stdout",
     "output_type": "stream",
     "text": [
      "words: ['adio', 'ayudarmar', 'chau', 'contacto', 'correo', 'costo', 'credito', 'criptomoneda', 'cuota', 'direccion', 'electronico', 'email', 'empresa', 'gracias', 'hola', 'indicar', 'llama', 'medio', 'mobile', 'nombre', 'numero', 'ofrecer', 'pago', 'poder', 'precio', 'producto', 'ser', 'servicio', 'silotok', 'tarjeta', 'telefono', 'ubicacion', 'ubicado', 'whatsapp']\n",
      "classes: ['agradecimientos', 'bienvenida', 'contacto', 'contacto_email', 'despedida', 'nombre', 'pagos', 'precios_servicios', 'servicios', 'ubicación_empresa']\n",
      "doc_X: ['Hola', '¿Cómo estás?', '¿Cómo estás?', 'Hola, podrías ayudarme', 'Hola, podrías ayudarme', 'Hola, podrías ayudarme', '¿Cúal es tu nombre?', '¿Cúal es tu nombre?', '¿Cúal es tu nombre?', '¿Cúal es tu nombre?', '¿Quién sos?', '¿Quién sos?', '¿Me podrías decir tú nombre?', '¿Me podrías decir tú nombre?', '¿Me podrías decir tú nombre?', '¿Me podrías decir tú nombre?', '¿Me podrías decir tú nombre?', '¿Como te llamas?', '¿Como te llamas?', '¿Como te llamas?', 'contacto', 'número de contacto', 'número de contacto', 'número de contacto', 'número de teléfono', 'número de teléfono', 'número de teléfono', 'número de mobile', 'número de mobile', 'número de mobile', 'mobile', 'número de whatsapp', 'número de whatsapp', 'número de whatsapp', 'whatsapp', 'email', 'dirección electrónica', 'dirección electrónica', 'correo electrónico', 'correo electrónico', 'servicios', 'Me podrás indicar los servicios', 'Me podrás indicar los servicios', 'Me podrás indicar los servicios', 'Me podrás indicar los servicios', 'Me podrás indicar los servicios', '¿Qué servicios ofrecen?', '¿Qué servicios ofrecen?', '¿Qué servicios ofrecen?', 'Productos', 'Costo', 'Precio por servicio', 'Precio por servicio', 'Precio por servicio', 'Precios', 'medios de pago', 'medios de pago', 'medios de pago', 'tarjeta de crédito', 'tarjeta de crédito', 'tarjeta de crédito', 'tarjetas', 'cuotas', 'Criptomonedas', 'Silotokens', 'Donde está ubicada la empresa', 'Donde está ubicada la empresa', 'Donde está ubicada la empresa', 'Donde está ubicada la empresa', 'Donde está ubicada la empresa', 'Dirección de la empresa', 'Dirección de la empresa', 'Dirección de la empresa', 'Dirección de la empresa', 'ubicación de la empresa', 'ubicación de la empresa', 'ubicación de la empresa', 'ubicación de la empresa', 'dirección', 'Muchas gracias', 'Muchas gracias', 'Gracias', 'Chau', 'Hasta luego!', 'Hasta luego!', 'Adiós']\n",
      "doc_y: ['bienvenida', 'bienvenida', 'bienvenida', 'bienvenida', 'bienvenida', 'bienvenida', 'nombre', 'nombre', 'nombre', 'nombre', 'nombre', 'nombre', 'nombre', 'nombre', 'nombre', 'nombre', 'nombre', 'nombre', 'nombre', 'nombre', 'contacto', 'contacto', 'contacto', 'contacto', 'contacto', 'contacto', 'contacto', 'contacto', 'contacto', 'contacto', 'contacto', 'contacto', 'contacto', 'contacto', 'contacto', 'contacto_email', 'contacto_email', 'contacto_email', 'contacto_email', 'contacto_email', 'servicios', 'servicios', 'servicios', 'servicios', 'servicios', 'servicios', 'servicios', 'servicios', 'servicios', 'servicios', 'precios_servicios', 'precios_servicios', 'precios_servicios', 'precios_servicios', 'precios_servicios', 'pagos', 'pagos', 'pagos', 'pagos', 'pagos', 'pagos', 'pagos', 'pagos', 'pagos', 'pagos', 'ubicación_empresa', 'ubicación_empresa', 'ubicación_empresa', 'ubicación_empresa', 'ubicación_empresa', 'ubicación_empresa', 'ubicación_empresa', 'ubicación_empresa', 'ubicación_empresa', 'ubicación_empresa', 'ubicación_empresa', 'ubicación_empresa', 'ubicación_empresa', 'ubicación_empresa', 'agradecimientos', 'agradecimientos', 'agradecimientos', 'despedida', 'despedida', 'despedida', 'despedida']\n"
     ]
    }
   ],
   "source": [
    "print(\"words:\", words)\n",
    "print(\"classes:\", classes)\n",
    "print(\"doc_X:\", doc_X)\n",
    "print(\"doc_y:\", doc_y)"
   ]
  },
  {
   "cell_type": "code",
   "execution_count": 13,
   "metadata": {
    "id": "YI0L2U7IQcvy"
   },
   "outputs": [
    {
     "name": "stdout",
     "output_type": "stream",
     "text": [
      "Vocabulario: 34\n"
     ]
    }
   ],
   "source": [
    "# Vocabulary size\n",
    "print(\"Vocabulario:\", len(words))"
   ]
  },
  {
   "cell_type": "code",
   "execution_count": 15,
   "metadata": {
    "id": "hqBeGKRk_q4r"
   },
   "outputs": [
    {
     "name": "stdout",
     "output_type": "stream",
     "text": [
      "Tags: 10\n"
     ]
    }
   ],
   "source": [
    "# Tag numbers\n",
    "print(\"Tags:\", len(classes))"
   ]
  },
  {
   "cell_type": "code",
   "execution_count": 16,
   "metadata": {
    "id": "vpbJ0guPN2Uq"
   },
   "outputs": [
    {
     "name": "stdout",
     "output_type": "stream",
     "text": [
      "X: [0, 0, 0, 0, 0, 0, 0, 0, 0, 0, 0, 0, 0, 0, 1, 0, 0, 0, 0, 0, 0, 0, 0, 0, 0, 0, 0, 0, 0, 0, 0, 0, 0, 0] y: [0, 1, 0, 0, 0, 0, 0, 0, 0, 0]\n",
      "X: [0, 0, 0, 0, 0, 0, 0, 0, 0, 0, 0, 0, 0, 0, 0, 0, 0, 0, 0, 0, 0, 0, 0, 0, 0, 0, 0, 0, 0, 0, 0, 0, 0, 0] y: [0, 1, 0, 0, 0, 0, 0, 0, 0, 0]\n",
      "X: [0, 0, 0, 0, 0, 0, 0, 0, 0, 0, 0, 0, 0, 0, 0, 0, 0, 0, 0, 0, 0, 0, 0, 0, 0, 0, 0, 0, 0, 0, 0, 0, 0, 0] y: [0, 1, 0, 0, 0, 0, 0, 0, 0, 0]\n",
      "X: [0, 1, 0, 0, 0, 0, 0, 0, 0, 0, 0, 0, 0, 0, 1, 0, 0, 0, 0, 0, 0, 0, 0, 1, 0, 0, 0, 0, 0, 0, 0, 0, 0, 0] y: [0, 1, 0, 0, 0, 0, 0, 0, 0, 0]\n",
      "X: [0, 1, 0, 0, 0, 0, 0, 0, 0, 0, 0, 0, 0, 0, 1, 0, 0, 0, 0, 0, 0, 0, 0, 1, 0, 0, 0, 0, 0, 0, 0, 0, 0, 0] y: [0, 1, 0, 0, 0, 0, 0, 0, 0, 0]\n",
      "X: [0, 1, 0, 0, 0, 0, 0, 0, 0, 0, 0, 0, 0, 0, 1, 0, 0, 0, 0, 0, 0, 0, 0, 1, 0, 0, 0, 0, 0, 0, 0, 0, 0, 0] y: [0, 1, 0, 0, 0, 0, 0, 0, 0, 0]\n",
      "X: [0, 0, 0, 0, 0, 0, 0, 0, 0, 0, 0, 0, 0, 0, 0, 0, 0, 0, 0, 1, 0, 0, 0, 0, 0, 0, 1, 0, 0, 0, 0, 0, 0, 0] y: [0, 0, 0, 0, 0, 1, 0, 0, 0, 0]\n",
      "X: [0, 0, 0, 0, 0, 0, 0, 0, 0, 0, 0, 0, 0, 0, 0, 0, 0, 0, 0, 1, 0, 0, 0, 0, 0, 0, 1, 0, 0, 0, 0, 0, 0, 0] y: [0, 0, 0, 0, 0, 1, 0, 0, 0, 0]\n",
      "X: [0, 0, 0, 0, 0, 0, 0, 0, 0, 0, 0, 0, 0, 0, 0, 0, 0, 0, 0, 1, 0, 0, 0, 0, 0, 0, 1, 0, 0, 0, 0, 0, 0, 0] y: [0, 0, 0, 0, 0, 1, 0, 0, 0, 0]\n",
      "X: [0, 0, 0, 0, 0, 0, 0, 0, 0, 0, 0, 0, 0, 0, 0, 0, 0, 0, 0, 1, 0, 0, 0, 0, 0, 0, 1, 0, 0, 0, 0, 0, 0, 0] y: [0, 0, 0, 0, 0, 1, 0, 0, 0, 0]\n",
      "X: [0, 0, 0, 0, 0, 0, 0, 0, 0, 0, 0, 0, 0, 0, 0, 0, 0, 0, 0, 0, 0, 0, 0, 0, 0, 0, 1, 0, 0, 0, 0, 0, 0, 0] y: [0, 0, 0, 0, 0, 1, 0, 0, 0, 0]\n",
      "X: [0, 0, 0, 0, 0, 0, 0, 0, 0, 0, 0, 0, 0, 0, 0, 0, 0, 0, 0, 0, 0, 0, 0, 0, 0, 0, 1, 0, 0, 0, 0, 0, 0, 0] y: [0, 0, 0, 0, 0, 1, 0, 0, 0, 0]\n",
      "X: [0, 0, 0, 0, 0, 0, 0, 0, 0, 0, 0, 0, 0, 0, 0, 0, 0, 0, 0, 1, 0, 0, 0, 1, 0, 0, 0, 0, 0, 0, 0, 0, 0, 0] y: [0, 0, 0, 0, 0, 1, 0, 0, 0, 0]\n",
      "X: [0, 0, 0, 0, 0, 0, 0, 0, 0, 0, 0, 0, 0, 0, 0, 0, 0, 0, 0, 1, 0, 0, 0, 1, 0, 0, 0, 0, 0, 0, 0, 0, 0, 0] y: [0, 0, 0, 0, 0, 1, 0, 0, 0, 0]\n",
      "X: [0, 0, 0, 0, 0, 0, 0, 0, 0, 0, 0, 0, 0, 0, 0, 0, 0, 0, 0, 1, 0, 0, 0, 1, 0, 0, 0, 0, 0, 0, 0, 0, 0, 0] y: [0, 0, 0, 0, 0, 1, 0, 0, 0, 0]\n",
      "X: [0, 0, 0, 0, 0, 0, 0, 0, 0, 0, 0, 0, 0, 0, 0, 0, 0, 0, 0, 1, 0, 0, 0, 1, 0, 0, 0, 0, 0, 0, 0, 0, 0, 0] y: [0, 0, 0, 0, 0, 1, 0, 0, 0, 0]\n",
      "X: [0, 0, 0, 0, 0, 0, 0, 0, 0, 0, 0, 0, 0, 0, 0, 0, 0, 0, 0, 1, 0, 0, 0, 1, 0, 0, 0, 0, 0, 0, 0, 0, 0, 0] y: [0, 0, 0, 0, 0, 1, 0, 0, 0, 0]\n",
      "X: [0, 0, 0, 0, 0, 0, 0, 0, 0, 0, 0, 0, 0, 0, 0, 0, 1, 0, 0, 0, 0, 0, 0, 0, 0, 0, 0, 0, 0, 0, 0, 0, 0, 0] y: [0, 0, 0, 0, 0, 1, 0, 0, 0, 0]\n",
      "X: [0, 0, 0, 0, 0, 0, 0, 0, 0, 0, 0, 0, 0, 0, 0, 0, 1, 0, 0, 0, 0, 0, 0, 0, 0, 0, 0, 0, 0, 0, 0, 0, 0, 0] y: [0, 0, 0, 0, 0, 1, 0, 0, 0, 0]\n",
      "X: [0, 0, 0, 0, 0, 0, 0, 0, 0, 0, 0, 0, 0, 0, 0, 0, 1, 0, 0, 0, 0, 0, 0, 0, 0, 0, 0, 0, 0, 0, 0, 0, 0, 0] y: [0, 0, 0, 0, 0, 1, 0, 0, 0, 0]\n",
      "X: [0, 0, 0, 1, 0, 0, 0, 0, 0, 0, 0, 0, 0, 0, 0, 0, 0, 0, 0, 0, 0, 0, 0, 0, 0, 0, 0, 0, 0, 0, 0, 0, 0, 0] y: [0, 0, 1, 0, 0, 0, 0, 0, 0, 0]\n",
      "X: [0, 0, 0, 1, 0, 0, 0, 0, 0, 0, 0, 0, 0, 0, 0, 0, 0, 0, 0, 0, 1, 0, 0, 0, 0, 0, 0, 0, 0, 0, 0, 0, 0, 0] y: [0, 0, 1, 0, 0, 0, 0, 0, 0, 0]\n",
      "X: [0, 0, 0, 1, 0, 0, 0, 0, 0, 0, 0, 0, 0, 0, 0, 0, 0, 0, 0, 0, 1, 0, 0, 0, 0, 0, 0, 0, 0, 0, 0, 0, 0, 0] y: [0, 0, 1, 0, 0, 0, 0, 0, 0, 0]\n",
      "X: [0, 0, 0, 1, 0, 0, 0, 0, 0, 0, 0, 0, 0, 0, 0, 0, 0, 0, 0, 0, 1, 0, 0, 0, 0, 0, 0, 0, 0, 0, 0, 0, 0, 0] y: [0, 0, 1, 0, 0, 0, 0, 0, 0, 0]\n",
      "X: [0, 0, 0, 0, 0, 0, 0, 0, 0, 0, 0, 0, 0, 0, 0, 0, 0, 0, 0, 0, 1, 0, 0, 0, 0, 0, 0, 0, 0, 0, 1, 0, 0, 0] y: [0, 0, 1, 0, 0, 0, 0, 0, 0, 0]\n",
      "X: [0, 0, 0, 0, 0, 0, 0, 0, 0, 0, 0, 0, 0, 0, 0, 0, 0, 0, 0, 0, 1, 0, 0, 0, 0, 0, 0, 0, 0, 0, 1, 0, 0, 0] y: [0, 0, 1, 0, 0, 0, 0, 0, 0, 0]\n",
      "X: [0, 0, 0, 0, 0, 0, 0, 0, 0, 0, 0, 0, 0, 0, 0, 0, 0, 0, 0, 0, 1, 0, 0, 0, 0, 0, 0, 0, 0, 0, 1, 0, 0, 0] y: [0, 0, 1, 0, 0, 0, 0, 0, 0, 0]\n",
      "X: [0, 0, 0, 0, 0, 0, 0, 0, 0, 0, 0, 0, 0, 0, 0, 0, 0, 0, 1, 0, 1, 0, 0, 0, 0, 0, 0, 0, 0, 0, 0, 0, 0, 0] y: [0, 0, 1, 0, 0, 0, 0, 0, 0, 0]\n",
      "X: [0, 0, 0, 0, 0, 0, 0, 0, 0, 0, 0, 0, 0, 0, 0, 0, 0, 0, 1, 0, 1, 0, 0, 0, 0, 0, 0, 0, 0, 0, 0, 0, 0, 0] y: [0, 0, 1, 0, 0, 0, 0, 0, 0, 0]\n",
      "X: [0, 0, 0, 0, 0, 0, 0, 0, 0, 0, 0, 0, 0, 0, 0, 0, 0, 0, 1, 0, 1, 0, 0, 0, 0, 0, 0, 0, 0, 0, 0, 0, 0, 0] y: [0, 0, 1, 0, 0, 0, 0, 0, 0, 0]\n",
      "X: [0, 0, 0, 0, 0, 0, 0, 0, 0, 0, 0, 0, 0, 0, 0, 0, 0, 0, 1, 0, 0, 0, 0, 0, 0, 0, 0, 0, 0, 0, 0, 0, 0, 0] y: [0, 0, 1, 0, 0, 0, 0, 0, 0, 0]\n",
      "X: [0, 0, 0, 0, 0, 0, 0, 0, 0, 0, 0, 0, 0, 0, 0, 0, 0, 0, 0, 0, 1, 0, 0, 0, 0, 0, 0, 0, 0, 0, 0, 0, 0, 1] y: [0, 0, 1, 0, 0, 0, 0, 0, 0, 0]\n",
      "X: [0, 0, 0, 0, 0, 0, 0, 0, 0, 0, 0, 0, 0, 0, 0, 0, 0, 0, 0, 0, 1, 0, 0, 0, 0, 0, 0, 0, 0, 0, 0, 0, 0, 1] y: [0, 0, 1, 0, 0, 0, 0, 0, 0, 0]\n",
      "X: [0, 0, 0, 0, 0, 0, 0, 0, 0, 0, 0, 0, 0, 0, 0, 0, 0, 0, 0, 0, 1, 0, 0, 0, 0, 0, 0, 0, 0, 0, 0, 0, 0, 1] y: [0, 0, 1, 0, 0, 0, 0, 0, 0, 0]\n",
      "X: [0, 0, 0, 0, 0, 0, 0, 0, 0, 0, 0, 0, 0, 0, 0, 0, 0, 0, 0, 0, 0, 0, 0, 0, 0, 0, 0, 0, 0, 0, 0, 0, 0, 1] y: [0, 0, 1, 0, 0, 0, 0, 0, 0, 0]\n",
      "X: [0, 0, 0, 0, 0, 0, 0, 0, 0, 0, 0, 1, 0, 0, 0, 0, 0, 0, 0, 0, 0, 0, 0, 0, 0, 0, 0, 0, 0, 0, 0, 0, 0, 0] y: [0, 0, 0, 1, 0, 0, 0, 0, 0, 0]\n",
      "X: [0, 0, 0, 0, 0, 0, 0, 0, 0, 1, 1, 0, 0, 0, 0, 0, 0, 0, 0, 0, 0, 0, 0, 0, 0, 0, 0, 0, 0, 0, 0, 0, 0, 0] y: [0, 0, 0, 1, 0, 0, 0, 0, 0, 0]\n",
      "X: [0, 0, 0, 0, 0, 0, 0, 0, 0, 1, 1, 0, 0, 0, 0, 0, 0, 0, 0, 0, 0, 0, 0, 0, 0, 0, 0, 0, 0, 0, 0, 0, 0, 0] y: [0, 0, 0, 1, 0, 0, 0, 0, 0, 0]\n",
      "X: [0, 0, 0, 0, 1, 0, 0, 0, 0, 0, 1, 0, 0, 0, 0, 0, 0, 0, 0, 0, 0, 0, 0, 0, 0, 0, 0, 0, 0, 0, 0, 0, 0, 0] y: [0, 0, 0, 1, 0, 0, 0, 0, 0, 0]\n",
      "X: [0, 0, 0, 0, 1, 0, 0, 0, 0, 0, 1, 0, 0, 0, 0, 0, 0, 0, 0, 0, 0, 0, 0, 0, 0, 0, 0, 0, 0, 0, 0, 0, 0, 0] y: [0, 0, 0, 1, 0, 0, 0, 0, 0, 0]\n",
      "X: [0, 0, 0, 0, 0, 0, 0, 0, 0, 0, 0, 0, 0, 0, 0, 0, 0, 0, 0, 0, 0, 0, 0, 0, 0, 0, 0, 1, 0, 0, 0, 0, 0, 0] y: [0, 0, 0, 0, 0, 0, 0, 0, 1, 0]\n",
      "X: [0, 0, 0, 0, 0, 0, 0, 0, 0, 0, 0, 0, 0, 0, 0, 1, 0, 0, 0, 0, 0, 0, 0, 1, 0, 0, 0, 1, 0, 0, 0, 0, 0, 0] y: [0, 0, 0, 0, 0, 0, 0, 0, 1, 0]\n",
      "X: [0, 0, 0, 0, 0, 0, 0, 0, 0, 0, 0, 0, 0, 0, 0, 1, 0, 0, 0, 0, 0, 0, 0, 1, 0, 0, 0, 1, 0, 0, 0, 0, 0, 0] y: [0, 0, 0, 0, 0, 0, 0, 0, 1, 0]\n",
      "X: [0, 0, 0, 0, 0, 0, 0, 0, 0, 0, 0, 0, 0, 0, 0, 1, 0, 0, 0, 0, 0, 0, 0, 1, 0, 0, 0, 1, 0, 0, 0, 0, 0, 0] y: [0, 0, 0, 0, 0, 0, 0, 0, 1, 0]\n",
      "X: [0, 0, 0, 0, 0, 0, 0, 0, 0, 0, 0, 0, 0, 0, 0, 1, 0, 0, 0, 0, 0, 0, 0, 1, 0, 0, 0, 1, 0, 0, 0, 0, 0, 0] y: [0, 0, 0, 0, 0, 0, 0, 0, 1, 0]\n",
      "X: [0, 0, 0, 0, 0, 0, 0, 0, 0, 0, 0, 0, 0, 0, 0, 1, 0, 0, 0, 0, 0, 0, 0, 1, 0, 0, 0, 1, 0, 0, 0, 0, 0, 0] y: [0, 0, 0, 0, 0, 0, 0, 0, 1, 0]\n",
      "X: [0, 0, 0, 0, 0, 0, 0, 0, 0, 0, 0, 0, 0, 0, 0, 0, 0, 0, 0, 0, 0, 1, 0, 0, 0, 0, 0, 1, 0, 0, 0, 0, 0, 0] y: [0, 0, 0, 0, 0, 0, 0, 0, 1, 0]\n",
      "X: [0, 0, 0, 0, 0, 0, 0, 0, 0, 0, 0, 0, 0, 0, 0, 0, 0, 0, 0, 0, 0, 1, 0, 0, 0, 0, 0, 1, 0, 0, 0, 0, 0, 0] y: [0, 0, 0, 0, 0, 0, 0, 0, 1, 0]\n",
      "X: [0, 0, 0, 0, 0, 0, 0, 0, 0, 0, 0, 0, 0, 0, 0, 0, 0, 0, 0, 0, 0, 1, 0, 0, 0, 0, 0, 1, 0, 0, 0, 0, 0, 0] y: [0, 0, 0, 0, 0, 0, 0, 0, 1, 0]\n",
      "X: [0, 0, 0, 0, 0, 0, 0, 0, 0, 0, 0, 0, 0, 0, 0, 0, 0, 0, 0, 0, 0, 0, 0, 0, 0, 1, 0, 0, 0, 0, 0, 0, 0, 0] y: [0, 0, 0, 0, 0, 0, 0, 0, 1, 0]\n",
      "X: [0, 0, 0, 0, 0, 1, 0, 0, 0, 0, 0, 0, 0, 0, 0, 0, 0, 0, 0, 0, 0, 0, 0, 0, 0, 0, 0, 0, 0, 0, 0, 0, 0, 0] y: [0, 0, 0, 0, 0, 0, 0, 1, 0, 0]\n",
      "X: [0, 0, 0, 0, 0, 0, 0, 0, 0, 0, 0, 0, 0, 0, 0, 0, 0, 0, 0, 0, 0, 0, 0, 0, 1, 0, 0, 1, 0, 0, 0, 0, 0, 0] y: [0, 0, 0, 0, 0, 0, 0, 1, 0, 0]\n",
      "X: [0, 0, 0, 0, 0, 0, 0, 0, 0, 0, 0, 0, 0, 0, 0, 0, 0, 0, 0, 0, 0, 0, 0, 0, 1, 0, 0, 1, 0, 0, 0, 0, 0, 0] y: [0, 0, 0, 0, 0, 0, 0, 1, 0, 0]\n",
      "X: [0, 0, 0, 0, 0, 0, 0, 0, 0, 0, 0, 0, 0, 0, 0, 0, 0, 0, 0, 0, 0, 0, 0, 0, 1, 0, 0, 1, 0, 0, 0, 0, 0, 0] y: [0, 0, 0, 0, 0, 0, 0, 1, 0, 0]\n",
      "X: [0, 0, 0, 0, 0, 0, 0, 0, 0, 0, 0, 0, 0, 0, 0, 0, 0, 0, 0, 0, 0, 0, 0, 0, 1, 0, 0, 0, 0, 0, 0, 0, 0, 0] y: [0, 0, 0, 0, 0, 0, 0, 1, 0, 0]\n",
      "X: [0, 0, 0, 0, 0, 0, 0, 0, 0, 0, 0, 0, 0, 0, 0, 0, 0, 1, 0, 0, 0, 0, 1, 0, 0, 0, 0, 0, 0, 0, 0, 0, 0, 0] y: [0, 0, 0, 0, 0, 0, 1, 0, 0, 0]\n",
      "X: [0, 0, 0, 0, 0, 0, 0, 0, 0, 0, 0, 0, 0, 0, 0, 0, 0, 1, 0, 0, 0, 0, 1, 0, 0, 0, 0, 0, 0, 0, 0, 0, 0, 0] y: [0, 0, 0, 0, 0, 0, 1, 0, 0, 0]\n",
      "X: [0, 0, 0, 0, 0, 0, 0, 0, 0, 0, 0, 0, 0, 0, 0, 0, 0, 1, 0, 0, 0, 0, 1, 0, 0, 0, 0, 0, 0, 0, 0, 0, 0, 0] y: [0, 0, 0, 0, 0, 0, 1, 0, 0, 0]\n",
      "X: [0, 0, 0, 0, 0, 0, 1, 0, 0, 0, 0, 0, 0, 0, 0, 0, 0, 0, 0, 0, 0, 0, 0, 0, 0, 0, 0, 0, 0, 1, 0, 0, 0, 0] y: [0, 0, 0, 0, 0, 0, 1, 0, 0, 0]\n",
      "X: [0, 0, 0, 0, 0, 0, 1, 0, 0, 0, 0, 0, 0, 0, 0, 0, 0, 0, 0, 0, 0, 0, 0, 0, 0, 0, 0, 0, 0, 1, 0, 0, 0, 0] y: [0, 0, 0, 0, 0, 0, 1, 0, 0, 0]\n",
      "X: [0, 0, 0, 0, 0, 0, 1, 0, 0, 0, 0, 0, 0, 0, 0, 0, 0, 0, 0, 0, 0, 0, 0, 0, 0, 0, 0, 0, 0, 1, 0, 0, 0, 0] y: [0, 0, 0, 0, 0, 0, 1, 0, 0, 0]\n",
      "X: [0, 0, 0, 0, 0, 0, 0, 0, 0, 0, 0, 0, 0, 0, 0, 0, 0, 0, 0, 0, 0, 0, 0, 0, 0, 0, 0, 0, 0, 1, 0, 0, 0, 0] y: [0, 0, 0, 0, 0, 0, 1, 0, 0, 0]\n",
      "X: [0, 0, 0, 0, 0, 0, 0, 0, 1, 0, 0, 0, 0, 0, 0, 0, 0, 0, 0, 0, 0, 0, 0, 0, 0, 0, 0, 0, 0, 0, 0, 0, 0, 0] y: [0, 0, 0, 0, 0, 0, 1, 0, 0, 0]\n",
      "X: [0, 0, 0, 0, 0, 0, 0, 1, 0, 0, 0, 0, 0, 0, 0, 0, 0, 0, 0, 0, 0, 0, 0, 0, 0, 0, 0, 0, 0, 0, 0, 0, 0, 0] y: [0, 0, 0, 0, 0, 0, 1, 0, 0, 0]\n",
      "X: [0, 0, 0, 0, 0, 0, 0, 0, 0, 0, 0, 0, 0, 0, 0, 0, 0, 0, 0, 0, 0, 0, 0, 0, 0, 0, 0, 0, 1, 0, 0, 0, 0, 0] y: [0, 0, 0, 0, 0, 0, 1, 0, 0, 0]\n",
      "X: [0, 0, 0, 0, 0, 0, 0, 0, 0, 0, 0, 0, 1, 0, 0, 0, 0, 0, 0, 0, 0, 0, 0, 0, 0, 0, 0, 0, 0, 0, 0, 0, 1, 0] y: [0, 0, 0, 0, 0, 0, 0, 0, 0, 1]\n",
      "X: [0, 0, 0, 0, 0, 0, 0, 0, 0, 0, 0, 0, 1, 0, 0, 0, 0, 0, 0, 0, 0, 0, 0, 0, 0, 0, 0, 0, 0, 0, 0, 0, 1, 0] y: [0, 0, 0, 0, 0, 0, 0, 0, 0, 1]\n",
      "X: [0, 0, 0, 0, 0, 0, 0, 0, 0, 0, 0, 0, 1, 0, 0, 0, 0, 0, 0, 0, 0, 0, 0, 0, 0, 0, 0, 0, 0, 0, 0, 0, 1, 0] y: [0, 0, 0, 0, 0, 0, 0, 0, 0, 1]\n",
      "X: [0, 0, 0, 0, 0, 0, 0, 0, 0, 0, 0, 0, 1, 0, 0, 0, 0, 0, 0, 0, 0, 0, 0, 0, 0, 0, 0, 0, 0, 0, 0, 0, 1, 0] y: [0, 0, 0, 0, 0, 0, 0, 0, 0, 1]\n",
      "X: [0, 0, 0, 0, 0, 0, 0, 0, 0, 0, 0, 0, 1, 0, 0, 0, 0, 0, 0, 0, 0, 0, 0, 0, 0, 0, 0, 0, 0, 0, 0, 0, 1, 0] y: [0, 0, 0, 0, 0, 0, 0, 0, 0, 1]\n",
      "X: [0, 0, 0, 0, 0, 0, 0, 0, 0, 1, 0, 0, 1, 0, 0, 0, 0, 0, 0, 0, 0, 0, 0, 0, 0, 0, 0, 0, 0, 0, 0, 0, 0, 0] y: [0, 0, 0, 0, 0, 0, 0, 0, 0, 1]\n",
      "X: [0, 0, 0, 0, 0, 0, 0, 0, 0, 1, 0, 0, 1, 0, 0, 0, 0, 0, 0, 0, 0, 0, 0, 0, 0, 0, 0, 0, 0, 0, 0, 0, 0, 0] y: [0, 0, 0, 0, 0, 0, 0, 0, 0, 1]\n",
      "X: [0, 0, 0, 0, 0, 0, 0, 0, 0, 1, 0, 0, 1, 0, 0, 0, 0, 0, 0, 0, 0, 0, 0, 0, 0, 0, 0, 0, 0, 0, 0, 0, 0, 0] y: [0, 0, 0, 0, 0, 0, 0, 0, 0, 1]\n",
      "X: [0, 0, 0, 0, 0, 0, 0, 0, 0, 1, 0, 0, 1, 0, 0, 0, 0, 0, 0, 0, 0, 0, 0, 0, 0, 0, 0, 0, 0, 0, 0, 0, 0, 0] y: [0, 0, 0, 0, 0, 0, 0, 0, 0, 1]\n",
      "X: [0, 0, 0, 0, 0, 0, 0, 0, 0, 0, 0, 0, 1, 0, 0, 0, 0, 0, 0, 0, 0, 0, 0, 0, 0, 0, 0, 0, 0, 0, 0, 1, 0, 0] y: [0, 0, 0, 0, 0, 0, 0, 0, 0, 1]\n",
      "X: [0, 0, 0, 0, 0, 0, 0, 0, 0, 0, 0, 0, 1, 0, 0, 0, 0, 0, 0, 0, 0, 0, 0, 0, 0, 0, 0, 0, 0, 0, 0, 1, 0, 0] y: [0, 0, 0, 0, 0, 0, 0, 0, 0, 1]\n",
      "X: [0, 0, 0, 0, 0, 0, 0, 0, 0, 0, 0, 0, 1, 0, 0, 0, 0, 0, 0, 0, 0, 0, 0, 0, 0, 0, 0, 0, 0, 0, 0, 1, 0, 0] y: [0, 0, 0, 0, 0, 0, 0, 0, 0, 1]\n",
      "X: [0, 0, 0, 0, 0, 0, 0, 0, 0, 0, 0, 0, 1, 0, 0, 0, 0, 0, 0, 0, 0, 0, 0, 0, 0, 0, 0, 0, 0, 0, 0, 1, 0, 0] y: [0, 0, 0, 0, 0, 0, 0, 0, 0, 1]\n",
      "X: [0, 0, 0, 0, 0, 0, 0, 0, 0, 1, 0, 0, 0, 0, 0, 0, 0, 0, 0, 0, 0, 0, 0, 0, 0, 0, 0, 0, 0, 0, 0, 0, 0, 0] y: [0, 0, 0, 0, 0, 0, 0, 0, 0, 1]\n",
      "X: [0, 0, 0, 0, 0, 0, 0, 0, 0, 0, 0, 0, 0, 1, 0, 0, 0, 0, 0, 0, 0, 0, 0, 0, 0, 0, 0, 0, 0, 0, 0, 0, 0, 0] y: [1, 0, 0, 0, 0, 0, 0, 0, 0, 0]\n",
      "X: [0, 0, 0, 0, 0, 0, 0, 0, 0, 0, 0, 0, 0, 1, 0, 0, 0, 0, 0, 0, 0, 0, 0, 0, 0, 0, 0, 0, 0, 0, 0, 0, 0, 0] y: [1, 0, 0, 0, 0, 0, 0, 0, 0, 0]\n",
      "X: [0, 0, 0, 0, 0, 0, 0, 0, 0, 0, 0, 0, 0, 1, 0, 0, 0, 0, 0, 0, 0, 0, 0, 0, 0, 0, 0, 0, 0, 0, 0, 0, 0, 0] y: [1, 0, 0, 0, 0, 0, 0, 0, 0, 0]\n",
      "X: [0, 0, 1, 0, 0, 0, 0, 0, 0, 0, 0, 0, 0, 0, 0, 0, 0, 0, 0, 0, 0, 0, 0, 0, 0, 0, 0, 0, 0, 0, 0, 0, 0, 0] y: [0, 0, 0, 0, 1, 0, 0, 0, 0, 0]\n",
      "X: [0, 0, 0, 0, 0, 0, 0, 0, 0, 0, 0, 0, 0, 0, 0, 0, 0, 0, 0, 0, 0, 0, 0, 0, 0, 0, 0, 0, 0, 0, 0, 0, 0, 0] y: [0, 0, 0, 0, 1, 0, 0, 0, 0, 0]\n",
      "X: [0, 0, 0, 0, 0, 0, 0, 0, 0, 0, 0, 0, 0, 0, 0, 0, 0, 0, 0, 0, 0, 0, 0, 0, 0, 0, 0, 0, 0, 0, 0, 0, 0, 0] y: [0, 0, 0, 0, 1, 0, 0, 0, 0, 0]\n",
      "X: [1, 0, 0, 0, 0, 0, 0, 0, 0, 0, 0, 0, 0, 0, 0, 0, 0, 0, 0, 0, 0, 0, 0, 0, 0, 0, 0, 0, 0, 0, 0, 0, 0, 0] y: [0, 0, 0, 0, 1, 0, 0, 0, 0, 0]\n"
     ]
    }
   ],
   "source": [
    "# Transform  doc_X in bag of words by oneHotEncoding\n",
    "# Transform  doc_Y in a vector of multicategorical multiclass  with oneHotEncoding\n",
    "\n",
    "training = []\n",
    "out_empty = [0] * len(classes)\n",
    "\n",
    "for idx, doc in enumerate(doc_X):\n",
    "    # Transform the input in tokens and lemmatizate\n",
    "    text = []\n",
    "    tokens = nlp(preprocess_clean_text(doc.lower()))\n",
    "    for token in tokens:\n",
    "        text.append(token.lemma_)\n",
    "\n",
    "    # Transform the tokens in \"BoW\"\n",
    "    bow = []\n",
    "    for word in words:\n",
    "        bow.append(1) if word in text else bow.append(0)\n",
    "    \n",
    "    # Create the output array\n",
    "    output_row = list(out_empty)\n",
    "    output_row[classes.index(doc_y[idx])] = 1\n",
    "\n",
    "    print(\"X:\", bow, \"y:\", output_row)\n",
    "    training.append([bow, output_row])\n",
    "\n",
    "# Mix the data\n",
    "random.shuffle(training)\n",
    "training = np.array(training, dtype=object)\n",
    "# Split in input and output data\n",
    "train_X = np.array(list(training[:, 0]))\n",
    "train_y = np.array(list(training[:, 1]))"
   ]
  },
  {
   "attachments": {},
   "cell_type": "markdown",
   "metadata": {
    "id": "a_Hr8QaDfRf3"
   },
   "source": [
    "### 4 - Training model"
   ]
  },
  {
   "cell_type": "code",
   "execution_count": 17,
   "metadata": {
    "id": "fopb3NqcAGTz"
   },
   "outputs": [
    {
     "name": "stdout",
     "output_type": "stream",
     "text": [
      "input: (34,) output: 10\n"
     ]
    }
   ],
   "source": [
    "input_shape = (train_X.shape[1],)\n",
    "output_shape = train_y.shape[1]\n",
    "print(\"input:\", input_shape, \"output:\", output_shape)"
   ]
  },
  {
   "cell_type": "code",
   "execution_count": 19,
   "metadata": {
    "id": "xy7tzkwdOZx9"
   },
   "outputs": [
    {
     "name": "stdout",
     "output_type": "stream",
     "text": [
      "Model: \"sequential_1\"\n",
      "_________________________________________________________________\n",
      " Layer (type)                Output Shape              Param #   \n",
      "=================================================================\n",
      " dense_4 (Dense)             (None, 256)               8960      \n",
      "                                                                 \n",
      " dropout_3 (Dropout)         (None, 256)               0         \n",
      "                                                                 \n",
      " dense_5 (Dense)             (None, 128)               32896     \n",
      "                                                                 \n",
      " dropout_4 (Dropout)         (None, 128)               0         \n",
      "                                                                 \n",
      " dense_6 (Dense)             (None, 64)                8256      \n",
      "                                                                 \n",
      " dropout_5 (Dropout)         (None, 64)                0         \n",
      "                                                                 \n",
      " dense_7 (Dense)             (None, 10)                650       \n",
      "                                                                 \n",
      "=================================================================\n",
      "Total params: 50,762\n",
      "Trainable params: 50,762\n",
      "Non-trainable params: 0\n",
      "_________________________________________________________________\n",
      "None\n"
     ]
    }
   ],
   "source": [
    "# Create the model : 3 layers Training the model DNN\n",
    "# - Sequential model\n",
    "# - Regularization\n",
    "# - softmax and Adam optimizer \n",
    "model = Sequential()\n",
    "model.add(Dense(256, input_shape=input_shape, activation=\"relu\"))\n",
    "model.add(Dropout(0.5))\n",
    "model.add(Dense(128, input_shape=input_shape, activation=\"relu\"))\n",
    "model.add(Dropout(0.5))\n",
    "model.add(Dense(64, activation=\"relu\"))\n",
    "model.add(Dropout(0.5))\n",
    "model.add(Dense(output_shape, activation = \"softmax\"))\n",
    "\n",
    "\n",
    "#sgd = SGD(lr=0.1, decay=1e-6, momentum=0.9, nesterov=True)\n",
    "\n",
    "model.compile(loss='categorical_crossentropy',\n",
    "              optimizer=\"Adam\",\n",
    "              metrics=[\"accuracy\"])\n",
    "print(model.summary())"
   ]
  },
  {
   "cell_type": "code",
   "execution_count": 20,
   "metadata": {
    "id": "r6hi4EcdOghm"
   },
   "outputs": [
    {
     "name": "stdout",
     "output_type": "stream",
     "text": [
      "Epoch 1/200\n",
      "3/3 [==============================] - 1s 20ms/step - loss: 2.2968 - accuracy: 0.1395\n",
      "Epoch 2/200\n",
      "3/3 [==============================] - 0s 31ms/step - loss: 2.2948 - accuracy: 0.0930\n",
      "Epoch 3/200\n",
      "3/3 [==============================] - 0s 10ms/step - loss: 2.2617 - accuracy: 0.1279\n",
      "Epoch 4/200\n",
      "3/3 [==============================] - 0s 15ms/step - loss: 2.2440 - accuracy: 0.1744\n",
      "Epoch 5/200\n",
      "3/3 [==============================] - 0s 10ms/step - loss: 2.2150 - accuracy: 0.1744\n",
      "Epoch 6/200\n",
      "3/3 [==============================] - 0s 24ms/step - loss: 2.1666 - accuracy: 0.3372\n",
      "Epoch 7/200\n",
      "3/3 [==============================] - 0s 6ms/step - loss: 2.1132 - accuracy: 0.3256\n",
      "Epoch 8/200\n",
      "3/3 [==============================] - 0s 19ms/step - loss: 2.1517 - accuracy: 0.2674\n",
      "Epoch 9/200\n",
      "3/3 [==============================] - 0s 8ms/step - loss: 2.0646 - accuracy: 0.3605\n",
      "Epoch 10/200\n",
      "3/3 [==============================] - 0s 8ms/step - loss: 2.0353 - accuracy: 0.3372\n",
      "Epoch 11/200\n",
      "3/3 [==============================] - 0s 9ms/step - loss: 1.9390 - accuracy: 0.3605\n",
      "Epoch 12/200\n",
      "3/3 [==============================] - 0s 11ms/step - loss: 1.9975 - accuracy: 0.3023\n",
      "Epoch 13/200\n",
      "3/3 [==============================] - 0s 12ms/step - loss: 1.8585 - accuracy: 0.3605\n",
      "Epoch 14/200\n",
      "3/3 [==============================] - 0s 14ms/step - loss: 1.8417 - accuracy: 0.3488\n",
      "Epoch 15/200\n",
      "3/3 [==============================] - 0s 9ms/step - loss: 1.7572 - accuracy: 0.3837\n",
      "Epoch 16/200\n",
      "3/3 [==============================] - 0s 10ms/step - loss: 1.7426 - accuracy: 0.4186\n",
      "Epoch 17/200\n",
      "3/3 [==============================] - 0s 13ms/step - loss: 1.6582 - accuracy: 0.4884\n",
      "Epoch 18/200\n",
      "3/3 [==============================] - 0s 8ms/step - loss: 1.5529 - accuracy: 0.5116\n",
      "Epoch 19/200\n",
      "3/3 [==============================] - 0s 3ms/step - loss: 1.5754 - accuracy: 0.5116\n",
      "Epoch 20/200\n",
      "3/3 [==============================] - 0s 7ms/step - loss: 1.4773 - accuracy: 0.5698\n",
      "Epoch 21/200\n",
      "3/3 [==============================] - 0s 11ms/step - loss: 1.4549 - accuracy: 0.5698\n",
      "Epoch 22/200\n",
      "3/3 [==============================] - 0s 8ms/step - loss: 1.3777 - accuracy: 0.5814\n",
      "Epoch 23/200\n",
      "3/3 [==============================] - 0s 8ms/step - loss: 1.4048 - accuracy: 0.5698\n",
      "Epoch 24/200\n",
      "3/3 [==============================] - 0s 14ms/step - loss: 1.2302 - accuracy: 0.6395\n",
      "Epoch 25/200\n",
      "3/3 [==============================] - 0s 12ms/step - loss: 1.1604 - accuracy: 0.6512\n",
      "Epoch 26/200\n",
      "3/3 [==============================] - 0s 8ms/step - loss: 1.2152 - accuracy: 0.6512\n",
      "Epoch 27/200\n",
      "3/3 [==============================] - 0s 5ms/step - loss: 1.0910 - accuracy: 0.6744\n",
      "Epoch 28/200\n",
      "3/3 [==============================] - 0s 9ms/step - loss: 1.0866 - accuracy: 0.6512\n",
      "Epoch 29/200\n",
      "3/3 [==============================] - 0s 8ms/step - loss: 1.0012 - accuracy: 0.6744\n",
      "Epoch 30/200\n",
      "3/3 [==============================] - 0s 7ms/step - loss: 0.9211 - accuracy: 0.6512\n",
      "Epoch 31/200\n",
      "3/3 [==============================] - 0s 6ms/step - loss: 0.9419 - accuracy: 0.6512\n",
      "Epoch 32/200\n",
      "3/3 [==============================] - 0s 9ms/step - loss: 0.8757 - accuracy: 0.7326\n",
      "Epoch 33/200\n",
      "3/3 [==============================] - 0s 6ms/step - loss: 0.8687 - accuracy: 0.7209\n",
      "Epoch 34/200\n",
      "3/3 [==============================] - 0s 12ms/step - loss: 0.7660 - accuracy: 0.7907\n",
      "Epoch 35/200\n",
      "3/3 [==============================] - 0s 8ms/step - loss: 0.8001 - accuracy: 0.7326\n",
      "Epoch 36/200\n",
      "3/3 [==============================] - 0s 8ms/step - loss: 0.7667 - accuracy: 0.7907\n",
      "Epoch 37/200\n",
      "3/3 [==============================] - 0s 5ms/step - loss: 0.6715 - accuracy: 0.8140\n",
      "Epoch 38/200\n",
      "3/3 [==============================] - 0s 5ms/step - loss: 0.6741 - accuracy: 0.8488\n",
      "Epoch 39/200\n",
      "3/3 [==============================] - 0s 4ms/step - loss: 0.6427 - accuracy: 0.8256\n",
      "Epoch 40/200\n",
      "3/3 [==============================] - 0s 4ms/step - loss: 0.6211 - accuracy: 0.8256\n",
      "Epoch 41/200\n",
      "3/3 [==============================] - 0s 6ms/step - loss: 0.6370 - accuracy: 0.8140\n",
      "Epoch 42/200\n",
      "3/3 [==============================] - 0s 9ms/step - loss: 0.6115 - accuracy: 0.8140\n",
      "Epoch 43/200\n",
      "3/3 [==============================] - 0s 23ms/step - loss: 0.5637 - accuracy: 0.8140\n",
      "Epoch 44/200\n",
      "3/3 [==============================] - 0s 8ms/step - loss: 0.5876 - accuracy: 0.8605\n",
      "Epoch 45/200\n",
      "3/3 [==============================] - 0s 20ms/step - loss: 0.5172 - accuracy: 0.8488\n",
      "Epoch 46/200\n",
      "3/3 [==============================] - 0s 4ms/step - loss: 0.5301 - accuracy: 0.8372\n",
      "Epoch 47/200\n",
      "3/3 [==============================] - 0s 36ms/step - loss: 0.5778 - accuracy: 0.8488\n",
      "Epoch 48/200\n",
      "3/3 [==============================] - 0s 20ms/step - loss: 0.4781 - accuracy: 0.8023\n",
      "Epoch 49/200\n",
      "3/3 [==============================] - 0s 6ms/step - loss: 0.5147 - accuracy: 0.8488\n",
      "Epoch 50/200\n",
      "3/3 [==============================] - 0s 25ms/step - loss: 0.4871 - accuracy: 0.8721\n",
      "Epoch 51/200\n",
      "3/3 [==============================] - 0s 12ms/step - loss: 0.4725 - accuracy: 0.8140\n",
      "Epoch 52/200\n",
      "3/3 [==============================] - 0s 8ms/step - loss: 0.3694 - accuracy: 0.9070\n",
      "Epoch 53/200\n",
      "3/3 [==============================] - 0s 9ms/step - loss: 0.4098 - accuracy: 0.8721\n",
      "Epoch 54/200\n",
      "3/3 [==============================] - 0s 8ms/step - loss: 0.4158 - accuracy: 0.9070\n",
      "Epoch 55/200\n",
      "3/3 [==============================] - 0s 10ms/step - loss: 0.3889 - accuracy: 0.8953\n",
      "Epoch 56/200\n",
      "3/3 [==============================] - 0s 11ms/step - loss: 0.4420 - accuracy: 0.8837\n",
      "Epoch 57/200\n",
      "3/3 [==============================] - 0s 42ms/step - loss: 0.3688 - accuracy: 0.8721\n",
      "Epoch 58/200\n",
      "3/3 [==============================] - 0s 10ms/step - loss: 0.4130 - accuracy: 0.8837\n",
      "Epoch 59/200\n",
      "3/3 [==============================] - 0s 6ms/step - loss: 0.4144 - accuracy: 0.8953\n",
      "Epoch 60/200\n",
      "3/3 [==============================] - 0s 22ms/step - loss: 0.3470 - accuracy: 0.9302\n",
      "Epoch 61/200\n",
      "3/3 [==============================] - 0s 6ms/step - loss: 0.3549 - accuracy: 0.8721\n",
      "Epoch 62/200\n",
      "3/3 [==============================] - 0s 15ms/step - loss: 0.4036 - accuracy: 0.8721\n",
      "Epoch 63/200\n",
      "3/3 [==============================] - 0s 7ms/step - loss: 0.3009 - accuracy: 0.9186\n",
      "Epoch 64/200\n",
      "3/3 [==============================] - 0s 3ms/step - loss: 0.3042 - accuracy: 0.9419\n",
      "Epoch 65/200\n",
      "3/3 [==============================] - 0s 7ms/step - loss: 0.3718 - accuracy: 0.9070\n",
      "Epoch 66/200\n",
      "3/3 [==============================] - 0s 5ms/step - loss: 0.2917 - accuracy: 0.9186\n",
      "Epoch 67/200\n",
      "3/3 [==============================] - 0s 10ms/step - loss: 0.2578 - accuracy: 0.9302\n",
      "Epoch 68/200\n",
      "3/3 [==============================] - 0s 4ms/step - loss: 0.3303 - accuracy: 0.9070\n",
      "Epoch 69/200\n",
      "3/3 [==============================] - 0s 8ms/step - loss: 0.2937 - accuracy: 0.9302\n",
      "Epoch 70/200\n",
      "3/3 [==============================] - 0s 8ms/step - loss: 0.2207 - accuracy: 0.9535\n",
      "Epoch 71/200\n",
      "3/3 [==============================] - 0s 7ms/step - loss: 0.2428 - accuracy: 0.9535\n",
      "Epoch 72/200\n",
      "3/3 [==============================] - 0s 4ms/step - loss: 0.2580 - accuracy: 0.9419\n",
      "Epoch 73/200\n",
      "3/3 [==============================] - 0s 9ms/step - loss: 0.2635 - accuracy: 0.9302\n",
      "Epoch 74/200\n",
      "3/3 [==============================] - 0s 8ms/step - loss: 0.2419 - accuracy: 0.9419\n",
      "Epoch 75/200\n",
      "3/3 [==============================] - 0s 12ms/step - loss: 0.2714 - accuracy: 0.9302\n",
      "Epoch 76/200\n",
      "3/3 [==============================] - 0s 13ms/step - loss: 0.2664 - accuracy: 0.9419\n",
      "Epoch 77/200\n",
      "3/3 [==============================] - 0s 15ms/step - loss: 0.2523 - accuracy: 0.9070\n",
      "Epoch 78/200\n",
      "3/3 [==============================] - 0s 21ms/step - loss: 0.1663 - accuracy: 1.0000\n",
      "Epoch 79/200\n",
      "3/3 [==============================] - 0s 15ms/step - loss: 0.2502 - accuracy: 0.9186\n",
      "Epoch 80/200\n",
      "3/3 [==============================] - 0s 5ms/step - loss: 0.2093 - accuracy: 0.9302\n",
      "Epoch 81/200\n",
      "3/3 [==============================] - 0s 6ms/step - loss: 0.2548 - accuracy: 0.9186\n",
      "Epoch 82/200\n",
      "3/3 [==============================] - 0s 8ms/step - loss: 0.1827 - accuracy: 0.9419\n",
      "Epoch 83/200\n",
      "3/3 [==============================] - 0s 18ms/step - loss: 0.1513 - accuracy: 0.9651\n",
      "Epoch 84/200\n",
      "3/3 [==============================] - 0s 18ms/step - loss: 0.1804 - accuracy: 0.9535\n",
      "Epoch 85/200\n",
      "3/3 [==============================] - 0s 6ms/step - loss: 0.2046 - accuracy: 0.9535\n",
      "Epoch 86/200\n",
      "3/3 [==============================] - 0s 8ms/step - loss: 0.1756 - accuracy: 0.9651\n",
      "Epoch 87/200\n",
      "3/3 [==============================] - 0s 16ms/step - loss: 0.1905 - accuracy: 0.9535\n",
      "Epoch 88/200\n",
      "3/3 [==============================] - 0s 10ms/step - loss: 0.1893 - accuracy: 0.9535\n",
      "Epoch 89/200\n",
      "3/3 [==============================] - 0s 16ms/step - loss: 0.1737 - accuracy: 0.9419\n",
      "Epoch 90/200\n",
      "3/3 [==============================] - 0s 5ms/step - loss: 0.1924 - accuracy: 0.9535\n",
      "Epoch 91/200\n",
      "3/3 [==============================] - 0s 28ms/step - loss: 0.2318 - accuracy: 0.9535\n",
      "Epoch 92/200\n",
      "3/3 [==============================] - 0s 11ms/step - loss: 0.1899 - accuracy: 0.9419\n",
      "Epoch 93/200\n",
      "3/3 [==============================] - 0s 5ms/step - loss: 0.1463 - accuracy: 0.9302\n",
      "Epoch 94/200\n",
      "3/3 [==============================] - 0s 23ms/step - loss: 0.1206 - accuracy: 0.9884\n",
      "Epoch 95/200\n",
      "3/3 [==============================] - 0s 11ms/step - loss: 0.1595 - accuracy: 0.9651\n",
      "Epoch 96/200\n",
      "3/3 [==============================] - 0s 8ms/step - loss: 0.2107 - accuracy: 0.9302\n",
      "Epoch 97/200\n",
      "3/3 [==============================] - 0s 16ms/step - loss: 0.2216 - accuracy: 0.9186\n",
      "Epoch 98/200\n",
      "3/3 [==============================] - 0s 7ms/step - loss: 0.1610 - accuracy: 0.9535\n",
      "Epoch 99/200\n",
      "3/3 [==============================] - 0s 7ms/step - loss: 0.1506 - accuracy: 0.9535\n",
      "Epoch 100/200\n",
      "3/3 [==============================] - 0s 9ms/step - loss: 0.1727 - accuracy: 0.9302\n",
      "Epoch 101/200\n",
      "3/3 [==============================] - 0s 25ms/step - loss: 0.1191 - accuracy: 0.9651\n",
      "Epoch 102/200\n",
      "3/3 [==============================] - 0s 8ms/step - loss: 0.1157 - accuracy: 0.9767\n",
      "Epoch 103/200\n",
      "3/3 [==============================] - 0s 8ms/step - loss: 0.1151 - accuracy: 0.9535\n",
      "Epoch 104/200\n",
      "3/3 [==============================] - 0s 4ms/step - loss: 0.1420 - accuracy: 0.9535\n",
      "Epoch 105/200\n",
      "3/3 [==============================] - 0s 4ms/step - loss: 0.0957 - accuracy: 0.9767\n",
      "Epoch 106/200\n",
      "3/3 [==============================] - 0s 13ms/step - loss: 0.1475 - accuracy: 0.9419\n",
      "Epoch 107/200\n",
      "3/3 [==============================] - 0s 4ms/step - loss: 0.1125 - accuracy: 0.9651\n",
      "Epoch 108/200\n",
      "3/3 [==============================] - 0s 19ms/step - loss: 0.0958 - accuracy: 0.9767\n",
      "Epoch 109/200\n",
      "3/3 [==============================] - 0s 6ms/step - loss: 0.1242 - accuracy: 0.9651\n",
      "Epoch 110/200\n",
      "3/3 [==============================] - 0s 17ms/step - loss: 0.1663 - accuracy: 0.9302\n",
      "Epoch 111/200\n",
      "3/3 [==============================] - 0s 8ms/step - loss: 0.1040 - accuracy: 0.9419\n",
      "Epoch 112/200\n",
      "3/3 [==============================] - 0s 23ms/step - loss: 0.1346 - accuracy: 0.9651\n",
      "Epoch 113/200\n",
      "3/3 [==============================] - 0s 4ms/step - loss: 0.1378 - accuracy: 0.9302\n",
      "Epoch 114/200\n",
      "3/3 [==============================] - 0s 14ms/step - loss: 0.1764 - accuracy: 0.9302\n",
      "Epoch 115/200\n",
      "3/3 [==============================] - 0s 20ms/step - loss: 0.0937 - accuracy: 0.9767\n",
      "Epoch 116/200\n",
      "3/3 [==============================] - 0s 13ms/step - loss: 0.1178 - accuracy: 0.9535\n",
      "Epoch 117/200\n",
      "3/3 [==============================] - 0s 12ms/step - loss: 0.0937 - accuracy: 0.9767\n",
      "Epoch 118/200\n",
      "3/3 [==============================] - 0s 16ms/step - loss: 0.1019 - accuracy: 0.9767\n",
      "Epoch 119/200\n",
      "3/3 [==============================] - 0s 16ms/step - loss: 0.1058 - accuracy: 0.9535\n",
      "Epoch 120/200\n",
      "3/3 [==============================] - 0s 11ms/step - loss: 0.1324 - accuracy: 0.9419\n",
      "Epoch 121/200\n",
      "3/3 [==============================] - 0s 20ms/step - loss: 0.1086 - accuracy: 0.9535\n",
      "Epoch 122/200\n",
      "3/3 [==============================] - 0s 8ms/step - loss: 0.0871 - accuracy: 0.9651\n",
      "Epoch 123/200\n",
      "3/3 [==============================] - 0s 8ms/step - loss: 0.1166 - accuracy: 0.9651\n",
      "Epoch 124/200\n",
      "3/3 [==============================] - 0s 16ms/step - loss: 0.0872 - accuracy: 0.9884\n",
      "Epoch 125/200\n",
      "3/3 [==============================] - 0s 11ms/step - loss: 0.1441 - accuracy: 0.9419\n",
      "Epoch 126/200\n",
      "3/3 [==============================] - 0s 19ms/step - loss: 0.1232 - accuracy: 0.9651\n",
      "Epoch 127/200\n",
      "3/3 [==============================] - 0s 8ms/step - loss: 0.1731 - accuracy: 0.9186\n",
      "Epoch 128/200\n",
      "3/3 [==============================] - 0s 6ms/step - loss: 0.1192 - accuracy: 0.9535\n",
      "Epoch 129/200\n",
      "3/3 [==============================] - 0s 19ms/step - loss: 0.1343 - accuracy: 0.9535\n",
      "Epoch 130/200\n",
      "3/3 [==============================] - 0s 22ms/step - loss: 0.0969 - accuracy: 0.9535\n",
      "Epoch 131/200\n",
      "3/3 [==============================] - 0s 9ms/step - loss: 0.0817 - accuracy: 0.9767\n",
      "Epoch 132/200\n",
      "3/3 [==============================] - 0s 7ms/step - loss: 0.1447 - accuracy: 0.9302\n",
      "Epoch 133/200\n",
      "3/3 [==============================] - 0s 6ms/step - loss: 0.0920 - accuracy: 0.9651\n",
      "Epoch 134/200\n",
      "3/3 [==============================] - 0s 12ms/step - loss: 0.1060 - accuracy: 0.9651\n",
      "Epoch 135/200\n",
      "3/3 [==============================] - 0s 11ms/step - loss: 0.1308 - accuracy: 0.9419\n",
      "Epoch 136/200\n",
      "3/3 [==============================] - 0s 9ms/step - loss: 0.0835 - accuracy: 0.9767\n",
      "Epoch 137/200\n",
      "3/3 [==============================] - 0s 16ms/step - loss: 0.1049 - accuracy: 0.9651\n",
      "Epoch 138/200\n",
      "3/3 [==============================] - 0s 18ms/step - loss: 0.0779 - accuracy: 0.9651\n",
      "Epoch 139/200\n",
      "3/3 [==============================] - 0s 19ms/step - loss: 0.0798 - accuracy: 0.9651\n",
      "Epoch 140/200\n",
      "3/3 [==============================] - 0s 13ms/step - loss: 0.1515 - accuracy: 0.9302\n",
      "Epoch 141/200\n",
      "3/3 [==============================] - 0s 6ms/step - loss: 0.1141 - accuracy: 0.9535\n",
      "Epoch 142/200\n",
      "3/3 [==============================] - 0s 7ms/step - loss: 0.1131 - accuracy: 0.9419\n",
      "Epoch 143/200\n",
      "3/3 [==============================] - 0s 15ms/step - loss: 0.0752 - accuracy: 0.9767\n",
      "Epoch 144/200\n",
      "3/3 [==============================] - 0s 13ms/step - loss: 0.1121 - accuracy: 0.9651\n",
      "Epoch 145/200\n",
      "3/3 [==============================] - 0s 9ms/step - loss: 0.0650 - accuracy: 0.9767\n",
      "Epoch 146/200\n",
      "3/3 [==============================] - 0s 20ms/step - loss: 0.0883 - accuracy: 0.9651\n",
      "Epoch 147/200\n",
      "3/3 [==============================] - 0s 5ms/step - loss: 0.0969 - accuracy: 0.9651\n",
      "Epoch 148/200\n",
      "3/3 [==============================] - 0s 9ms/step - loss: 0.1502 - accuracy: 0.9186\n",
      "Epoch 149/200\n",
      "3/3 [==============================] - 0s 19ms/step - loss: 0.1107 - accuracy: 0.9419\n",
      "Epoch 150/200\n",
      "3/3 [==============================] - 0s 4ms/step - loss: 0.0738 - accuracy: 0.9535\n",
      "Epoch 151/200\n",
      "3/3 [==============================] - 0s 9ms/step - loss: 0.0842 - accuracy: 0.9535\n",
      "Epoch 152/200\n",
      "3/3 [==============================] - 0s 3ms/step - loss: 0.0954 - accuracy: 0.9651\n",
      "Epoch 153/200\n",
      "3/3 [==============================] - 0s 15ms/step - loss: 0.0879 - accuracy: 0.9535\n",
      "Epoch 154/200\n",
      "3/3 [==============================] - 0s 13ms/step - loss: 0.0729 - accuracy: 0.9767\n",
      "Epoch 155/200\n",
      "3/3 [==============================] - 0s 18ms/step - loss: 0.1033 - accuracy: 0.9535\n",
      "Epoch 156/200\n",
      "3/3 [==============================] - 0s 11ms/step - loss: 0.1031 - accuracy: 0.9651\n",
      "Epoch 157/200\n",
      "3/3 [==============================] - 0s 12ms/step - loss: 0.1021 - accuracy: 0.9535\n",
      "Epoch 158/200\n",
      "3/3 [==============================] - 0s 6ms/step - loss: 0.1327 - accuracy: 0.9535\n",
      "Epoch 159/200\n",
      "3/3 [==============================] - 0s 15ms/step - loss: 0.0791 - accuracy: 0.9651\n",
      "Epoch 160/200\n",
      "3/3 [==============================] - 0s 18ms/step - loss: 0.0796 - accuracy: 0.9651\n",
      "Epoch 161/200\n",
      "3/3 [==============================] - 0s 8ms/step - loss: 0.0717 - accuracy: 1.0000\n",
      "Epoch 162/200\n",
      "3/3 [==============================] - 0s 19ms/step - loss: 0.1027 - accuracy: 0.9651\n",
      "Epoch 163/200\n",
      "3/3 [==============================] - 0s 11ms/step - loss: 0.0929 - accuracy: 0.9535\n",
      "Epoch 164/200\n",
      "3/3 [==============================] - 0s 13ms/step - loss: 0.0658 - accuracy: 0.9767\n",
      "Epoch 165/200\n",
      "3/3 [==============================] - 0s 14ms/step - loss: 0.1344 - accuracy: 0.9186\n",
      "Epoch 166/200\n",
      "3/3 [==============================] - 0s 9ms/step - loss: 0.0814 - accuracy: 0.9535\n",
      "Epoch 167/200\n",
      "3/3 [==============================] - 0s 7ms/step - loss: 0.0821 - accuracy: 0.9651\n",
      "Epoch 168/200\n",
      "3/3 [==============================] - 0s 11ms/step - loss: 0.0864 - accuracy: 0.9767\n",
      "Epoch 169/200\n",
      "3/3 [==============================] - 0s 17ms/step - loss: 0.0777 - accuracy: 0.9651\n",
      "Epoch 170/200\n",
      "3/3 [==============================] - 0s 14ms/step - loss: 0.0905 - accuracy: 0.9651\n",
      "Epoch 171/200\n",
      "3/3 [==============================] - 0s 7ms/step - loss: 0.0884 - accuracy: 0.9651\n",
      "Epoch 172/200\n",
      "3/3 [==============================] - 0s 13ms/step - loss: 0.0917 - accuracy: 0.9651\n",
      "Epoch 173/200\n",
      "3/3 [==============================] - 0s 3ms/step - loss: 0.0666 - accuracy: 0.9651\n",
      "Epoch 174/200\n",
      "3/3 [==============================] - 0s 8ms/step - loss: 0.0755 - accuracy: 0.9767\n",
      "Epoch 175/200\n",
      "3/3 [==============================] - 0s 11ms/step - loss: 0.0873 - accuracy: 0.9535\n",
      "Epoch 176/200\n",
      "3/3 [==============================] - 0s 5ms/step - loss: 0.0672 - accuracy: 0.9767\n",
      "Epoch 177/200\n",
      "3/3 [==============================] - 0s 15ms/step - loss: 0.0749 - accuracy: 0.9767\n",
      "Epoch 178/200\n",
      "3/3 [==============================] - 0s 5ms/step - loss: 0.0506 - accuracy: 0.9651\n",
      "Epoch 179/200\n",
      "3/3 [==============================] - 0s 13ms/step - loss: 0.0768 - accuracy: 0.9651\n",
      "Epoch 180/200\n",
      "3/3 [==============================] - 0s 13ms/step - loss: 0.0317 - accuracy: 1.0000\n",
      "Epoch 181/200\n",
      "3/3 [==============================] - 0s 4ms/step - loss: 0.0885 - accuracy: 0.9535\n",
      "Epoch 182/200\n",
      "3/3 [==============================] - 0s 8ms/step - loss: 0.0655 - accuracy: 0.9767\n",
      "Epoch 183/200\n",
      "3/3 [==============================] - 0s 12ms/step - loss: 0.0940 - accuracy: 0.9651\n",
      "Epoch 184/200\n",
      "3/3 [==============================] - 0s 14ms/step - loss: 0.0563 - accuracy: 0.9767\n",
      "Epoch 185/200\n",
      "3/3 [==============================] - 0s 4ms/step - loss: 0.0360 - accuracy: 0.9884\n",
      "Epoch 186/200\n",
      "3/3 [==============================] - 0s 50ms/step - loss: 0.0705 - accuracy: 0.9767\n",
      "Epoch 187/200\n",
      "3/3 [==============================] - 0s 5ms/step - loss: 0.0806 - accuracy: 0.9535\n",
      "Epoch 188/200\n",
      "3/3 [==============================] - 0s 11ms/step - loss: 0.0724 - accuracy: 0.9651\n",
      "Epoch 189/200\n",
      "3/3 [==============================] - 0s 9ms/step - loss: 0.0597 - accuracy: 1.0000\n",
      "Epoch 190/200\n",
      "3/3 [==============================] - 0s 3ms/step - loss: 0.0581 - accuracy: 1.0000\n",
      "Epoch 191/200\n",
      "3/3 [==============================] - 0s 28ms/step - loss: 0.0734 - accuracy: 0.9767\n",
      "Epoch 192/200\n",
      "3/3 [==============================] - 0s 10ms/step - loss: 0.0852 - accuracy: 0.9651\n",
      "Epoch 193/200\n",
      "3/3 [==============================] - 0s 10ms/step - loss: 0.0849 - accuracy: 0.9535\n",
      "Epoch 194/200\n",
      "3/3 [==============================] - 0s 4ms/step - loss: 0.1246 - accuracy: 0.9302\n",
      "Epoch 195/200\n",
      "3/3 [==============================] - 0s 14ms/step - loss: 0.0584 - accuracy: 0.9767\n",
      "Epoch 196/200\n",
      "3/3 [==============================] - 0s 24ms/step - loss: 0.0856 - accuracy: 0.9535\n",
      "Epoch 197/200\n",
      "3/3 [==============================] - 0s 7ms/step - loss: 0.0613 - accuracy: 0.9767\n",
      "Epoch 198/200\n",
      "3/3 [==============================] - 0s 9ms/step - loss: 0.0673 - accuracy: 0.9884\n",
      "Epoch 199/200\n",
      "3/3 [==============================] - 0s 10ms/step - loss: 0.0912 - accuracy: 0.9419\n",
      "Epoch 200/200\n",
      "3/3 [==============================] - 0s 4ms/step - loss: 0.0942 - accuracy: 0.9651\n"
     ]
    }
   ],
   "source": [
    "with tf.device(device_spec):\n",
    "    hist = model.fit(x=train_X, y=train_y, epochs=200)"
   ]
  },
  {
   "cell_type": "code",
   "execution_count": 21,
   "metadata": {
    "id": "Pb1GZDjGRP6Q"
   },
   "outputs": [
    {
     "data": {
      "image/png": "[encoded data removed]",
      "text/plain": [
       "<Figure size 640x480 with 1 Axes>"
      ]
     },
     "metadata": {},
     "output_type": "display_data"
    }
   ],
   "source": [
    "import matplotlib.pyplot as plt\n",
    "import seaborn as sns\n",
    "\n",
    "# Training\n",
    "epoch_count = range(1, len(hist.history['accuracy']) + 1)\n",
    "sns.lineplot(x=epoch_count,  y=hist.history['accuracy'], label='train')\n",
    "plt.show()"
   ]
  },
  {
   "cell_type": "code",
   "execution_count": 122,
   "metadata": {
    "id": "eTVDnrV0mDRf"
   },
   "outputs": [],
   "source": [
    "# Save the model for production\n",
    "import pickle\n",
    "pickle.dump(words, open('words.pkl','wb'))\n",
    "pickle.dump(classes, open('classes.pkl','wb'))\n",
    "model.save('chatbot_model.h5')"
   ]
  },
  {
   "attachments": {},
   "cell_type": "markdown",
   "metadata": {
    "id": "TnD1WvhBfVYR"
   },
   "source": [
    "### 5 - Testing and validation"
   ]
  },
  {
   "cell_type": "code",
   "execution_count": 123,
   "metadata": {
    "id": "kqBdSGt8Orkm"
   },
   "outputs": [],
   "source": [
    "# Convert input text to tokens\n",
    "def text_to_tokens(text):\n",
    "    lemma_tokens = []\n",
    "    tokens = nlp(preprocess_clean_text(text.lower()))\n",
    "    for token in tokens:\n",
    "        lemma_tokens.append(token.lemma_)\n",
    "\n",
    "    return lemma_tokens\n",
    "\n",
    "# Transform the tokenized input text to OHE representation\n",
    "\n",
    "\n",
    "def bag_of_words(text, vocab):\n",
    "    tokens = text_to_tokens(text)\n",
    "    bow = [0] * len(vocab)\n",
    "    for w in tokens:\n",
    "        for idx, word in enumerate(vocab):\n",
    "            if word == w:\n",
    "                bow[idx] = 1\n",
    "\n",
    "    return np.array(bow)\n",
    "\n",
    "# Using the model with the OHE input the labels\n",
    "\n",
    "\n",
    "def pred_class(text, vocab, labels):\n",
    "    bow = bag_of_words(text, vocab)\n",
    "    words_recognized = sum(bow)\n",
    "\n",
    "    return_list = []\n",
    "    if words_recognized > 0:\n",
    "        result = model.predict(np.array([bow]))[0]\n",
    "        thresh = 0.2\n",
    "        # Filter inputs lower than the threshold\n",
    "        y_pred = [[idx, res] for idx, res in enumerate(result) if res > thresh]\n",
    "        # Sort keys according to the softmax\n",
    "        y_pred.sort(key=lambda x: x[1], reverse=True)\n",
    "\n",
    "        # return_list es una lista de los labels de mayor a menor\n",
    "        for r in y_pred:\n",
    "            return_list.append(labels[r[0]])\n",
    "\n",
    "    return return_list\n",
    "\n",
    "# Getting a default anwser\n",
    "\n",
    "\n",
    "def get_response(intents_list, intents_json):\n",
    "    tag = intents_list[0]\n",
    "    list_of_intents = intents_json[\"intents\"]\n",
    "    for i in list_of_intents:\n",
    "        if i[\"tag\"] == tag:\n",
    "            result = random.choice(i[\"responses\"])\n",
    "            break\n",
    "    return result"
   ]
  },
  {
   "cell_type": "code",
   "execution_count": 124,
   "metadata": {
    "id": "Xp1vXQwdOvl7"
   },
   "outputs": [
    {
     "name": "stdout",
     "output_type": "stream",
     "text": [
      "Question: Ubicación\n",
      "1/1 [==============================] - 0s 49ms/step\n",
      "SiloBOT: Hablamos luego!\n",
      "Question: Hola\n",
      "1/1 [==============================] - 0s 19ms/step\n",
      "SiloBOT: Hola!\n",
      "Question: Como te llamas? \n",
      "1/1 [==============================] - 0s 14ms/step\n",
      "SiloBOT: Mi nombre es SiloBot, un bot asistido por AI\n",
      "Question: Servicios\n",
      "1/1 [==============================] - 0s 25ms/step\n",
      "SiloBOT: La compañía ofrece los siguientes servicios: SiloView, SiloToken, SiloMetrix, información adicional la puedes encontrar en en el siguiente link\n",
      "Question: Precios\n",
      "SiloBOT: Perdón, no entiendo tú pregunta.\n",
      "Question: Precios\n",
      "SiloBOT: Perdón, no entiendo tú pregunta.\n",
      "Question: \n",
      "SiloBOT: Perdón, no entiendo tú pregunta.\n",
      "Question: \n",
      "SiloBOT: Perdón, no entiendo tú pregunta.\n"
     ]
    },
    {
     "ename": "KeyboardInterrupt",
     "evalue": "Interrupted by user",
     "output_type": "error",
     "traceback": [
      "\u001b[0;31m---------------------------------------------------------------------------\u001b[0m",
      "\u001b[0;31mKeyboardInterrupt\u001b[0m                         Traceback (most recent call last)",
      "Cell \u001b[0;32mIn[124], line 3\u001b[0m\n\u001b[1;32m      1\u001b[0m \u001b[39mwhile\u001b[39;00m \u001b[39mTrue\u001b[39;00m:\n\u001b[1;32m      2\u001b[0m     \u001b[39m# Ask to the user for the input question\u001b[39;00m\n\u001b[0;32m----> 3\u001b[0m     message \u001b[39m=\u001b[39m \u001b[39minput\u001b[39;49m(\u001b[39m\"\u001b[39;49m\u001b[39m\"\u001b[39;49m)\n\u001b[1;32m      4\u001b[0m     \u001b[39mprint\u001b[39m(\u001b[39m\"\u001b[39m\u001b[39mQuestion:\u001b[39m\u001b[39m\"\u001b[39m, message)\n\u001b[1;32m      6\u001b[0m     intents \u001b[39m=\u001b[39m pred_class(message, words, classes)\n",
      "File \u001b[0;32m~/anaconda3/envs/nlp/lib/python3.9/site-packages/ipykernel/kernelbase.py:1202\u001b[0m, in \u001b[0;36mKernel.raw_input\u001b[0;34m(self, prompt)\u001b[0m\n\u001b[1;32m   1200\u001b[0m     msg \u001b[39m=\u001b[39m \u001b[39m\"\u001b[39m\u001b[39mraw_input was called, but this frontend does not support input requests.\u001b[39m\u001b[39m\"\u001b[39m\n\u001b[1;32m   1201\u001b[0m     \u001b[39mraise\u001b[39;00m StdinNotImplementedError(msg)\n\u001b[0;32m-> 1202\u001b[0m \u001b[39mreturn\u001b[39;00m \u001b[39mself\u001b[39;49m\u001b[39m.\u001b[39;49m_input_request(\n\u001b[1;32m   1203\u001b[0m     \u001b[39mstr\u001b[39;49m(prompt),\n\u001b[1;32m   1204\u001b[0m     \u001b[39mself\u001b[39;49m\u001b[39m.\u001b[39;49m_parent_ident[\u001b[39m\"\u001b[39;49m\u001b[39mshell\u001b[39;49m\u001b[39m\"\u001b[39;49m],\n\u001b[1;32m   1205\u001b[0m     \u001b[39mself\u001b[39;49m\u001b[39m.\u001b[39;49mget_parent(\u001b[39m\"\u001b[39;49m\u001b[39mshell\u001b[39;49m\u001b[39m\"\u001b[39;49m),\n\u001b[1;32m   1206\u001b[0m     password\u001b[39m=\u001b[39;49m\u001b[39mFalse\u001b[39;49;00m,\n\u001b[1;32m   1207\u001b[0m )\n",
      "File \u001b[0;32m~/anaconda3/envs/nlp/lib/python3.9/site-packages/ipykernel/kernelbase.py:1245\u001b[0m, in \u001b[0;36mKernel._input_request\u001b[0;34m(self, prompt, ident, parent, password)\u001b[0m\n\u001b[1;32m   1242\u001b[0m \u001b[39mexcept\u001b[39;00m \u001b[39mKeyboardInterrupt\u001b[39;00m:\n\u001b[1;32m   1243\u001b[0m     \u001b[39m# re-raise KeyboardInterrupt, to truncate traceback\u001b[39;00m\n\u001b[1;32m   1244\u001b[0m     msg \u001b[39m=\u001b[39m \u001b[39m\"\u001b[39m\u001b[39mInterrupted by user\u001b[39m\u001b[39m\"\u001b[39m\n\u001b[0;32m-> 1245\u001b[0m     \u001b[39mraise\u001b[39;00m \u001b[39mKeyboardInterrupt\u001b[39;00m(msg) \u001b[39mfrom\u001b[39;00m \u001b[39mNone\u001b[39;00m\n\u001b[1;32m   1246\u001b[0m \u001b[39mexcept\u001b[39;00m \u001b[39mException\u001b[39;00m:\n\u001b[1;32m   1247\u001b[0m     \u001b[39mself\u001b[39m\u001b[39m.\u001b[39mlog\u001b[39m.\u001b[39mwarning(\u001b[39m\"\u001b[39m\u001b[39mInvalid Message:\u001b[39m\u001b[39m\"\u001b[39m, exc_info\u001b[39m=\u001b[39m\u001b[39mTrue\u001b[39;00m)\n",
      "\u001b[0;31mKeyboardInterrupt\u001b[0m: Interrupted by user"
     ]
    }
   ],
   "source": [
    "while True:\n",
    "    # Ask to the user for the input question\n",
    "    message = input(\"\")\n",
    "    print(\"Question:\", message)\n",
    "\n",
    "    intents = pred_class(message, words, classes)\n",
    "    if len(intents) > 0:\n",
    "        result = get_response(intents, dataset)\n",
    "        print(\"SiloBOT:\", result)\n",
    "    else: # si no hubo ningún resultado que supere el umbral\n",
    "        print(\"SiloBOT: Perdón, no entiendo tú pregunta.\")\n",
    "    "
   ]
  }
 ],
 "metadata": {
  "colab": {
   "authorship_tag": "ABX9TyPZeXqdm2EV/WEA+xr24OAL",
   "collapsed_sections": [],
   "name": "2b - bot_dnn_spacy_esp.ipynb",
   "provenance": []
  },
  "kernelspec": {
   "display_name": "Python 3 (ipykernel)",
   "language": "python",
   "name": "python3"
  },
  "language_info": {
   "codemirror_mode": {
    "name": "ipython",
    "version": 3
   },
   "file_extension": ".py",
   "mimetype": "text/x-python",
   "name": "python",
   "nbconvert_exporter": "python",
   "pygments_lexer": "ipython3",
   "version": "3.9.17"
  }
 },
 "nbformat": 4,
 "nbformat_minor": 4
}
